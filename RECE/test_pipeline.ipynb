{
 "cells": [
  {
   "cell_type": "code",
   "execution_count": 4,
   "id": "d8d83a8f-26a4-443a-b120-aa7247c8a09f",
   "metadata": {},
   "outputs": [
    {
     "name": "stdout",
     "output_type": "stream",
     "text": [
      "Collecting scikit-learn\n",
      "  Downloading scikit_learn-1.5.2-cp310-cp310-win_amd64.whl.metadata (13 kB)\n",
      "Requirement already satisfied: numpy>=1.19.5 in c:\\users\\razvor\\documents\\ds\\skoltech\\research\\rl\\corl-sasrec\\.conda\\lib\\site-packages (from scikit-learn) (2.0.0)\n",
      "Requirement already satisfied: scipy>=1.6.0 in c:\\users\\razvor\\documents\\ds\\skoltech\\research\\rl\\corl-sasrec\\.conda\\lib\\site-packages (from scikit-learn) (1.14.1)\n",
      "Collecting joblib>=1.2.0 (from scikit-learn)\n",
      "  Downloading joblib-1.4.2-py3-none-any.whl.metadata (5.4 kB)\n",
      "Collecting threadpoolctl>=3.1.0 (from scikit-learn)\n",
      "  Downloading threadpoolctl-3.5.0-py3-none-any.whl.metadata (13 kB)\n",
      "Downloading scikit_learn-1.5.2-cp310-cp310-win_amd64.whl (11.0 MB)\n",
      "   ---------------------------------------- 0.0/11.0 MB ? eta -:--:--\n",
      "   - -------------------------------------- 0.5/11.0 MB 4.2 MB/s eta 0:00:03\n",
      "   ------------------------- -------------- 7.1/11.0 MB 22.9 MB/s eta 0:00:01\n",
      "   ---------------------------------------- 11.0/11.0 MB 25.4 MB/s eta 0:00:00\n",
      "Downloading joblib-1.4.2-py3-none-any.whl (301 kB)\n",
      "Downloading threadpoolctl-3.5.0-py3-none-any.whl (18 kB)\n",
      "Installing collected packages: threadpoolctl, joblib, scikit-learn\n",
      "Successfully installed joblib-1.4.2 scikit-learn-1.5.2 threadpoolctl-3.5.0\n"
     ]
    }
   ],
   "source": [
    "!pip install scikit-learn"
   ]
  },
  {
   "cell_type": "code",
   "execution_count": 5,
   "id": "1ce0130c-9ee8-4497-b999-97788bd983f7",
   "metadata": {},
   "outputs": [
    {
     "name": "stdout",
     "output_type": "stream",
     "text": [
      "The autoreload extension is already loaded. To reload it, use:\n",
      "  %reload_ext autoreload\n"
     ]
    }
   ],
   "source": [
    "%load_ext autoreload\n",
    "%autoreload 2\n",
    "    \n",
    "from data import get_dataset, data_to_sequences, data_to_ratequences, data_to_ratequences_splitted\n",
    "from eval_utils import sasrec_model_scoring\n",
    "\n",
    "from time import time\n",
    "from functools import reduce\n",
    "import uuid\n",
    "from tqdm import tqdm\n",
    "import os\n",
    "\n",
    "import numpy as np\n",
    "import pandas as pd\n",
    "import torch\n",
    "from torch.utils.data import DataLoader\n",
    "\n",
    "from model import SASRec\n",
    "from data import get_dataset, data_to_sequences, SequentialDataset\n",
    "from utils import topn_recommendations, downvote_seen_items\n",
    "from eval_utils import model_evaluate, sasrec_model_scoring, get_test_scores\n",
    "\n",
    "from sklearn.linear_model import LogisticRegression\n",
    "from train import build_sasrec_model\n",
    "\n",
    "from typing import Dict\n",
    "from typing import Optional\n",
    "from typing import Union\n",
    "\n",
    "from sklearn.utils import check_random_state\n",
    "from sklearn.utils import check_scalar\n",
    "\n",
    "import matplotlib.pyplot as plt\n",
    "\n",
    "os.environ['CUDA_VISIBLE_DEVICES'] = '0'\n",
    "device='cuda'"
   ]
  },
  {
   "cell_type": "markdown",
   "id": "cccea5e8-29f5-45fa-9b36-dbeb5406a4ed",
   "metadata": {
    "editable": true,
    "slideshow": {
     "slide_type": ""
    },
    "tags": []
   },
   "source": [
    "## Data"
   ]
  },
  {
   "cell_type": "code",
   "execution_count": 210,
   "id": "1cc7fe24-0cc8-4004-9f9f-9ea08853241c",
   "metadata": {},
   "outputs": [
    {
     "name": "stderr",
     "output_type": "stream",
     "text": [
      "/workspace/mnt/local/data/dalibraa/sasrec_rl/RECE/utils.py:10: FutureWarning: In a future version, `df.iloc[:, i] = newvals` will attempt to set the values inplace instead of always setting a new array. To retain the old behavior, use either `df[df.columns[i]] = newvals` or, if columns are non-unique, `df.isetitem(i, newvals)`\n",
      "  data.loc[:, field] = idx\n",
      "/workspace/mnt/local/data/dalibraa/sasrec_rl/RECE/utils.py:10: FutureWarning: In a future version, `df.iloc[:, i] = newvals` will attempt to set the values inplace instead of always setting a new array. To retain the old behavior, use either `df[df.columns[i]] = newvals` or, if columns are non-unique, `df.isetitem(i, newvals)`\n",
      "  data.loc[:, field] = idx\n"
     ]
    },
    {
     "name": "stdout",
     "output_type": "stream",
     "text": [
      "Filtered 115 invalid observations.\n",
      "Filtered 11 invalid observations.\n",
      "Filtered 4 invalid observations.\n"
     ]
    },
    {
     "data": {
      "text/plain": [
       "{'users': 'userid',\n",
       " 'items': 'itemid',\n",
       " 'order': 'timestamp',\n",
       " 'n_users': 5400,\n",
       " 'n_items': 3658}"
      ]
     },
     "execution_count": 210,
     "metadata": {},
     "output_type": "execute_result"
    }
   ],
   "source": [
    "training_temp, data_description_temp, testset_valid_temp, testset, holdout_valid_temp, _ = get_dataset(splitting='temporal_full',\n",
    "                                                                                     q=0.8)\n",
    "data_description_temp"
   ]
  },
  {
   "cell_type": "code",
   "execution_count": 211,
   "id": "c5112874-86ce-4065-83dd-963ca654a827",
   "metadata": {},
   "outputs": [],
   "source": [
    "testset['rating'] = (testset['rating'] >= 4) * 1\n",
    "testset.head()"
   ]
  },
  {
   "cell_type": "code",
   "execution_count": 7,
   "id": "d685a4c3-70da-4c53-b3ad-13bb9d86ea9d",
   "metadata": {},
   "outputs": [
    {
     "name": "stdout",
     "output_type": "stream",
     "text": [
      "userid         1783\n",
      "itemid         3511\n",
      "rating            5\n",
      "timestamp    110948\n",
      "dtype: int64\n",
      "Filtered 115 invalid observations.\n"
     ]
    },
    {
     "name": "stderr",
     "output_type": "stream",
     "text": [
      "/workspace/mnt/local/data/dalibraa/sasrec_rl/RECE/utils.py:10: FutureWarning: In a future version, `df.iloc[:, i] = newvals` will attempt to set the values inplace instead of always setting a new array. To retain the old behavior, use either `df[df.columns[i]] = newvals` or, if columns are non-unique, `df.isetitem(i, newvals)`\n",
      "  data.loc[:, field] = idx\n",
      "/workspace/mnt/local/data/dalibraa/sasrec_rl/RECE/utils.py:10: FutureWarning: In a future version, `df.iloc[:, i] = newvals` will attempt to set the values inplace instead of always setting a new array. To retain the old behavior, use either `df[df.columns[i]] = newvals` or, if columns are non-unique, `df.isetitem(i, newvals)`\n",
      "  data.loc[:, field] = idx\n"
     ]
    },
    {
     "name": "stdout",
     "output_type": "stream",
     "text": [
      "Filtered 11 invalid observations.\n",
      "Filtered 4 invalid observations.\n",
      "userid         1783\n",
      "itemid         3464\n",
      "rating            5\n",
      "timestamp    110850\n",
      "dtype: int64\n",
      "Filtered 107 invalid observations.\n",
      "Filtered 8 invalid observations.\n",
      "Filtered 13 invalid observations.\n",
      "Filtered 2 invalid observations.\n"
     ]
    },
    {
     "data": {
      "text/plain": [
       "{'users': 'userid',\n",
       " 'items': 'itemid',\n",
       " 'order': 'timestamp',\n",
       " 'n_users': 5400,\n",
       " 'n_items': 3658}"
      ]
     },
     "execution_count": 7,
     "metadata": {},
     "output_type": "execute_result"
    }
   ],
   "source": [
    "training_full, data_description_full, testset_valid_full, _, holdout_valid_full, _ = get_dataset(splitting='full',\n",
    "                                                                                     q=0.8)\n",
    "data_description_full"
   ]
  },
  {
   "cell_type": "markdown",
   "id": "75c7738d-e841-47a8-aa52-30aeefefca29",
   "metadata": {},
   "source": [
    "## Train SASRec models"
   ]
  },
  {
   "cell_type": "code",
   "execution_count": 569,
   "id": "7885dab9-a1c4-4426-893f-acaf7ccb076b",
   "metadata": {},
   "outputs": [],
   "source": [
    "base_config1 = dict(\n",
    "    manual_seed = 123,\n",
    "    sampler_seed = 123,\n",
    "    num_epochs = 3, #3 10 22 100&dropout0.9&hd32&bs1000\n",
    "    maxlen = 100,\n",
    "    hidden_units = 64,\n",
    "    dropout_rate = 0.3,\n",
    "    num_blocks = 2,\n",
    "    num_heads = 1,\n",
    "    batch_size = 128,\n",
    "    learning_rate = 1e-3,\n",
    "    fwd_type = 'ce',\n",
    "    l2_emb = 0,\n",
    "    patience = 10,\n",
    "    skip_epochs = 1,\n",
    "    n_neg_samples=0,\n",
    "    sampling='no_sampling'\n",
    ")"
   ]
  },
  {
   "cell_type": "code",
   "execution_count": 570,
   "id": "f38b9d88-d755-48b1-b966-b966cd8b6e6b",
   "metadata": {},
   "outputs": [],
   "source": [
    "base_config2 = dict(\n",
    "    manual_seed = 123,\n",
    "    sampler_seed = 123,\n",
    "    num_epochs = 100,\n",
    "    maxlen = 250,\n",
    "    hidden_units = 64,\n",
    "    dropout_rate = 0.3,\n",
    "    num_blocks = 2,\n",
    "    num_heads = 1,\n",
    "    batch_size = 128,\n",
    "    learning_rate = 1e-3,\n",
    "    fwd_type = 'ce',\n",
    "    l2_emb = 0,\n",
    "    patience = 10,\n",
    "    skip_epochs = 1,\n",
    "    n_neg_samples=0,\n",
    "    sampling='no_sampling'\n",
    ")"
   ]
  },
  {
   "cell_type": "code",
   "execution_count": 18,
   "id": "33d16116-362e-40cc-9539-d86b0d4168eb",
   "metadata": {
    "scrolled": true
   },
   "outputs": [
    {
     "name": "stderr",
     "output_type": "stream",
     "text": [
      "  1%|▊                                                                                  | 1/100 [00:21<34:39, 21.01s/it]"
     ]
    },
    {
     "name": "stdout",
     "output_type": "stream",
     "text": [
      "Epoch 0, NDCG@10: 0.020857005225796105\n"
     ]
    },
    {
     "name": "stderr",
     "output_type": "stream",
     "text": [
      "  2%|█▋                                                                                 | 2/100 [00:39<31:46, 19.45s/it]"
     ]
    },
    {
     "name": "stdout",
     "output_type": "stream",
     "text": [
      "Epoch 1, NDCG@10: 0.022605316616854287\n"
     ]
    },
    {
     "name": "stderr",
     "output_type": "stream",
     "text": [
      "  3%|██▍                                                                                | 3/100 [00:57<30:44, 19.02s/it]"
     ]
    },
    {
     "name": "stdout",
     "output_type": "stream",
     "text": [
      "Epoch 2, NDCG@10: 0.0279980519704876\n"
     ]
    },
    {
     "name": "stderr",
     "output_type": "stream",
     "text": [
      "  4%|███▎                                                                               | 4/100 [01:16<30:11, 18.87s/it]"
     ]
    },
    {
     "name": "stdout",
     "output_type": "stream",
     "text": [
      "Epoch 3, NDCG@10: 0.057676023728053465\n"
     ]
    },
    {
     "name": "stderr",
     "output_type": "stream",
     "text": [
      "  5%|████▏                                                                              | 5/100 [01:34<29:33, 18.66s/it]"
     ]
    },
    {
     "name": "stdout",
     "output_type": "stream",
     "text": [
      "Epoch 4, NDCG@10: 0.07885793069145355\n"
     ]
    },
    {
     "name": "stderr",
     "output_type": "stream",
     "text": [
      "  6%|████▉                                                                              | 6/100 [01:53<29:10, 18.62s/it]"
     ]
    },
    {
     "name": "stdout",
     "output_type": "stream",
     "text": [
      "Epoch 5, NDCG@10: 0.09410784788872177\n"
     ]
    },
    {
     "name": "stderr",
     "output_type": "stream",
     "text": [
      "  7%|█████▊                                                                             | 7/100 [02:11<28:36, 18.46s/it]"
     ]
    },
    {
     "name": "stdout",
     "output_type": "stream",
     "text": [
      "Epoch 6, NDCG@10: 0.10113889186882692\n"
     ]
    },
    {
     "name": "stderr",
     "output_type": "stream",
     "text": [
      "  8%|██████▋                                                                            | 8/100 [02:30<28:44, 18.75s/it]"
     ]
    },
    {
     "name": "stdout",
     "output_type": "stream",
     "text": [
      "Epoch 7, NDCG@10: 0.10931073610260532\n"
     ]
    },
    {
     "name": "stderr",
     "output_type": "stream",
     "text": [
      "  9%|███████▍                                                                           | 9/100 [02:49<28:20, 18.68s/it]"
     ]
    },
    {
     "name": "stdout",
     "output_type": "stream",
     "text": [
      "Epoch 8, NDCG@10: 0.11497325722357138\n"
     ]
    },
    {
     "name": "stderr",
     "output_type": "stream",
     "text": [
      " 10%|████████▏                                                                         | 10/100 [03:07<27:52, 18.59s/it]"
     ]
    },
    {
     "name": "stdout",
     "output_type": "stream",
     "text": [
      "Epoch 9, NDCG@10: 0.12285806476604012\n"
     ]
    },
    {
     "name": "stderr",
     "output_type": "stream",
     "text": [
      " 11%|█████████                                                                         | 11/100 [03:26<27:28, 18.52s/it]"
     ]
    },
    {
     "name": "stdout",
     "output_type": "stream",
     "text": [
      "Epoch 10, NDCG@10: 0.12697468031152057\n"
     ]
    },
    {
     "name": "stderr",
     "output_type": "stream",
     "text": [
      " 12%|█████████▊                                                                        | 12/100 [03:44<27:06, 18.48s/it]"
     ]
    },
    {
     "name": "stdout",
     "output_type": "stream",
     "text": [
      "Epoch 11, NDCG@10: 0.1293810322289219\n"
     ]
    },
    {
     "name": "stderr",
     "output_type": "stream",
     "text": [
      " 13%|██████████▋                                                                       | 13/100 [04:02<26:45, 18.45s/it]"
     ]
    },
    {
     "name": "stdout",
     "output_type": "stream",
     "text": [
      "Epoch 12, NDCG@10: 0.135533148969595\n"
     ]
    },
    {
     "name": "stderr",
     "output_type": "stream",
     "text": [
      " 14%|███████████▍                                                                      | 14/100 [04:21<26:28, 18.47s/it]"
     ]
    },
    {
     "name": "stdout",
     "output_type": "stream",
     "text": [
      "Epoch 13, NDCG@10: 0.1375578918480238\n"
     ]
    },
    {
     "name": "stderr",
     "output_type": "stream",
     "text": [
      " 15%|████████████▎                                                                     | 15/100 [04:39<26:09, 18.46s/it]"
     ]
    },
    {
     "name": "stdout",
     "output_type": "stream",
     "text": [
      "Epoch 14, NDCG@10: 0.1417444034199188\n"
     ]
    },
    {
     "name": "stderr",
     "output_type": "stream",
     "text": [
      " 16%|█████████████                                                                     | 16/100 [04:58<25:50, 18.46s/it]"
     ]
    },
    {
     "name": "stdout",
     "output_type": "stream",
     "text": [
      "Epoch 15, NDCG@10: 0.14203657422153396\n"
     ]
    },
    {
     "name": "stderr",
     "output_type": "stream",
     "text": [
      " 17%|█████████████▉                                                                    | 17/100 [05:16<25:32, 18.46s/it]"
     ]
    },
    {
     "name": "stdout",
     "output_type": "stream",
     "text": [
      "Epoch 16, NDCG@10: 0.145513304073232\n"
     ]
    },
    {
     "name": "stderr",
     "output_type": "stream",
     "text": [
      " 18%|██████████████▊                                                                   | 18/100 [05:35<25:12, 18.45s/it]"
     ]
    },
    {
     "name": "stdout",
     "output_type": "stream",
     "text": [
      "Epoch 17, NDCG@10: 0.148586647159639\n"
     ]
    },
    {
     "name": "stderr",
     "output_type": "stream",
     "text": [
      " 19%|███████████████▌                                                                  | 19/100 [05:53<24:53, 18.44s/it]"
     ]
    },
    {
     "name": "stdout",
     "output_type": "stream",
     "text": [
      "Epoch 18, NDCG@10: 0.14925435836303508\n"
     ]
    },
    {
     "name": "stderr",
     "output_type": "stream",
     "text": [
      " 20%|████████████████▍                                                                 | 20/100 [06:11<24:30, 18.39s/it]"
     ]
    },
    {
     "name": "stdout",
     "output_type": "stream",
     "text": [
      "Epoch 19, NDCG@10: 0.1513093116217613\n"
     ]
    },
    {
     "name": "stderr",
     "output_type": "stream",
     "text": [
      " 21%|█████████████████▏                                                                | 21/100 [06:30<24:07, 18.32s/it]"
     ]
    },
    {
     "name": "stdout",
     "output_type": "stream",
     "text": [
      "Epoch 20, NDCG@10: 0.14987886363198075\n"
     ]
    },
    {
     "name": "stderr",
     "output_type": "stream",
     "text": [
      " 22%|██████████████████                                                                | 22/100 [06:48<23:48, 18.31s/it]"
     ]
    },
    {
     "name": "stdout",
     "output_type": "stream",
     "text": [
      "Epoch 21, NDCG@10: 0.15216147658811288\n"
     ]
    },
    {
     "name": "stderr",
     "output_type": "stream",
     "text": [
      " 23%|██████████████████▊                                                               | 23/100 [07:06<23:30, 18.31s/it]"
     ]
    },
    {
     "name": "stdout",
     "output_type": "stream",
     "text": [
      "Epoch 22, NDCG@10: 0.1539484063987084\n"
     ]
    },
    {
     "name": "stderr",
     "output_type": "stream",
     "text": [
      " 24%|███████████████████▋                                                              | 24/100 [07:24<23:10, 18.30s/it]"
     ]
    },
    {
     "name": "stdout",
     "output_type": "stream",
     "text": [
      "Epoch 23, NDCG@10: 0.15319104640348036\n"
     ]
    },
    {
     "name": "stderr",
     "output_type": "stream",
     "text": [
      " 25%|████████████████████▌                                                             | 25/100 [07:43<22:50, 18.27s/it]"
     ]
    },
    {
     "name": "stdout",
     "output_type": "stream",
     "text": [
      "Epoch 24, NDCG@10: 0.1525867041477849\n"
     ]
    },
    {
     "name": "stderr",
     "output_type": "stream",
     "text": [
      " 26%|█████████████████████▎                                                            | 26/100 [08:01<22:31, 18.26s/it]"
     ]
    },
    {
     "name": "stdout",
     "output_type": "stream",
     "text": [
      "Epoch 25, NDCG@10: 0.15315867336495387\n"
     ]
    },
    {
     "name": "stderr",
     "output_type": "stream",
     "text": [
      " 27%|██████████████████████▏                                                           | 27/100 [08:19<22:13, 18.26s/it]"
     ]
    },
    {
     "name": "stdout",
     "output_type": "stream",
     "text": [
      "Epoch 26, NDCG@10: 0.1539025567615678\n"
     ]
    },
    {
     "name": "stderr",
     "output_type": "stream",
     "text": [
      " 28%|██████████████████████▉                                                           | 28/100 [08:37<21:53, 18.24s/it]"
     ]
    },
    {
     "name": "stdout",
     "output_type": "stream",
     "text": [
      "Epoch 27, NDCG@10: 0.15437393998066337\n"
     ]
    },
    {
     "name": "stderr",
     "output_type": "stream",
     "text": [
      " 29%|███████████████████████▊                                                          | 29/100 [08:56<21:35, 18.25s/it]"
     ]
    },
    {
     "name": "stdout",
     "output_type": "stream",
     "text": [
      "Epoch 28, NDCG@10: 0.15577780284558507\n"
     ]
    },
    {
     "name": "stderr",
     "output_type": "stream",
     "text": [
      " 30%|████████████████████████▌                                                         | 30/100 [09:14<21:20, 18.29s/it]"
     ]
    },
    {
     "name": "stdout",
     "output_type": "stream",
     "text": [
      "Epoch 29, NDCG@10: 0.15582529606743883\n"
     ]
    },
    {
     "name": "stderr",
     "output_type": "stream",
     "text": [
      " 31%|█████████████████████████▍                                                        | 31/100 [09:33<21:14, 18.47s/it]"
     ]
    },
    {
     "name": "stdout",
     "output_type": "stream",
     "text": [
      "Epoch 30, NDCG@10: 0.1548178998125833\n"
     ]
    },
    {
     "name": "stderr",
     "output_type": "stream",
     "text": [
      " 32%|██████████████████████████▏                                                       | 32/100 [09:52<21:12, 18.72s/it]"
     ]
    },
    {
     "name": "stdout",
     "output_type": "stream",
     "text": [
      "Epoch 31, NDCG@10: 0.15620733853635815\n"
     ]
    },
    {
     "name": "stderr",
     "output_type": "stream",
     "text": [
      " 33%|███████████████████████████                                                       | 33/100 [10:11<20:59, 18.79s/it]"
     ]
    },
    {
     "name": "stdout",
     "output_type": "stream",
     "text": [
      "Epoch 32, NDCG@10: 0.1563971299480122\n"
     ]
    },
    {
     "name": "stderr",
     "output_type": "stream",
     "text": [
      " 34%|███████████████████████████▉                                                      | 34/100 [10:30<20:42, 18.83s/it]"
     ]
    },
    {
     "name": "stdout",
     "output_type": "stream",
     "text": [
      "Epoch 33, NDCG@10: 0.15722030679466947\n"
     ]
    },
    {
     "name": "stderr",
     "output_type": "stream",
     "text": [
      " 35%|████████████████████████████▋                                                     | 35/100 [10:49<20:21, 18.79s/it]"
     ]
    },
    {
     "name": "stdout",
     "output_type": "stream",
     "text": [
      "Epoch 34, NDCG@10: 0.15668477898695402\n"
     ]
    },
    {
     "name": "stderr",
     "output_type": "stream",
     "text": [
      " 36%|█████████████████████████████▌                                                    | 36/100 [11:07<19:54, 18.66s/it]"
     ]
    },
    {
     "name": "stdout",
     "output_type": "stream",
     "text": [
      "Epoch 35, NDCG@10: 0.15730080774423474\n"
     ]
    },
    {
     "name": "stderr",
     "output_type": "stream",
     "text": [
      " 37%|██████████████████████████████▎                                                   | 37/100 [11:26<19:31, 18.59s/it]"
     ]
    },
    {
     "name": "stdout",
     "output_type": "stream",
     "text": [
      "Epoch 36, NDCG@10: 0.15692394687247255\n"
     ]
    },
    {
     "name": "stderr",
     "output_type": "stream",
     "text": [
      " 38%|███████████████████████████████▏                                                  | 38/100 [11:44<19:07, 18.51s/it]"
     ]
    },
    {
     "name": "stdout",
     "output_type": "stream",
     "text": [
      "Epoch 37, NDCG@10: 0.15753954340954388\n"
     ]
    },
    {
     "name": "stderr",
     "output_type": "stream",
     "text": [
      " 39%|███████████████████████████████▉                                                  | 39/100 [12:02<18:45, 18.44s/it]"
     ]
    },
    {
     "name": "stdout",
     "output_type": "stream",
     "text": [
      "Epoch 38, NDCG@10: 0.15612520172783212\n"
     ]
    },
    {
     "name": "stderr",
     "output_type": "stream",
     "text": [
      " 40%|████████████████████████████████▊                                                 | 40/100 [12:21<18:25, 18.43s/it]"
     ]
    },
    {
     "name": "stdout",
     "output_type": "stream",
     "text": [
      "Epoch 39, NDCG@10: 0.15713025116040247\n"
     ]
    },
    {
     "name": "stderr",
     "output_type": "stream",
     "text": [
      " 41%|█████████████████████████████████▌                                                | 41/100 [12:39<18:04, 18.38s/it]"
     ]
    },
    {
     "name": "stdout",
     "output_type": "stream",
     "text": [
      "Epoch 40, NDCG@10: 0.15915333438133408\n"
     ]
    },
    {
     "name": "stderr",
     "output_type": "stream",
     "text": [
      " 42%|██████████████████████████████████▍                                               | 42/100 [12:57<17:44, 18.36s/it]"
     ]
    },
    {
     "name": "stdout",
     "output_type": "stream",
     "text": [
      "Epoch 41, NDCG@10: 0.15675761942439853\n"
     ]
    },
    {
     "name": "stderr",
     "output_type": "stream",
     "text": [
      " 43%|███████████████████████████████████▎                                              | 43/100 [13:15<17:24, 18.33s/it]"
     ]
    },
    {
     "name": "stdout",
     "output_type": "stream",
     "text": [
      "Epoch 42, NDCG@10: 0.1583287675118393\n"
     ]
    },
    {
     "name": "stderr",
     "output_type": "stream",
     "text": [
      " 44%|████████████████████████████████████                                              | 44/100 [13:33<17:01, 18.23s/it]"
     ]
    },
    {
     "name": "stdout",
     "output_type": "stream",
     "text": [
      "Epoch 43, NDCG@10: 0.15942700734639023\n"
     ]
    },
    {
     "name": "stderr",
     "output_type": "stream",
     "text": [
      " 45%|████████████████████████████████████▉                                             | 45/100 [13:53<16:57, 18.51s/it]"
     ]
    },
    {
     "name": "stdout",
     "output_type": "stream",
     "text": [
      "Epoch 44, NDCG@10: 0.160779970278985\n"
     ]
    },
    {
     "name": "stderr",
     "output_type": "stream",
     "text": [
      " 46%|█████████████████████████████████████▋                                            | 46/100 [14:11<16:40, 18.53s/it]"
     ]
    },
    {
     "name": "stdout",
     "output_type": "stream",
     "text": [
      "Epoch 45, NDCG@10: 0.15851780925633127\n"
     ]
    },
    {
     "name": "stderr",
     "output_type": "stream",
     "text": [
      " 47%|██████████████████████████████████████▌                                           | 47/100 [14:29<16:17, 18.45s/it]"
     ]
    },
    {
     "name": "stdout",
     "output_type": "stream",
     "text": [
      "Epoch 46, NDCG@10: 0.16010303673610515\n"
     ]
    },
    {
     "name": "stderr",
     "output_type": "stream",
     "text": [
      " 48%|███████████████████████████████████████▎                                          | 48/100 [14:48<15:55, 18.37s/it]"
     ]
    },
    {
     "name": "stdout",
     "output_type": "stream",
     "text": [
      "Epoch 47, NDCG@10: 0.1602348459505172\n"
     ]
    },
    {
     "name": "stderr",
     "output_type": "stream",
     "text": [
      " 49%|████████████████████████████████████████▏                                         | 49/100 [15:06<15:37, 18.38s/it]"
     ]
    },
    {
     "name": "stdout",
     "output_type": "stream",
     "text": [
      "Epoch 48, NDCG@10: 0.16016235333675252\n"
     ]
    },
    {
     "name": "stderr",
     "output_type": "stream",
     "text": [
      " 50%|█████████████████████████████████████████                                         | 50/100 [15:25<15:21, 18.44s/it]"
     ]
    },
    {
     "name": "stdout",
     "output_type": "stream",
     "text": [
      "Epoch 49, NDCG@10: 0.1601804227335409\n"
     ]
    },
    {
     "name": "stderr",
     "output_type": "stream",
     "text": [
      " 51%|█████████████████████████████████████████▊                                        | 51/100 [15:43<15:06, 18.49s/it]"
     ]
    },
    {
     "name": "stdout",
     "output_type": "stream",
     "text": [
      "Epoch 50, NDCG@10: 0.16001454050515745\n"
     ]
    },
    {
     "name": "stderr",
     "output_type": "stream",
     "text": [
      " 52%|██████████████████████████████████████████▋                                       | 52/100 [16:02<14:45, 18.45s/it]"
     ]
    },
    {
     "name": "stdout",
     "output_type": "stream",
     "text": [
      "Epoch 51, NDCG@10: 0.16043955739756252\n"
     ]
    },
    {
     "name": "stderr",
     "output_type": "stream",
     "text": [
      " 53%|███████████████████████████████████████████▍                                      | 53/100 [16:20<14:30, 18.53s/it]"
     ]
    },
    {
     "name": "stdout",
     "output_type": "stream",
     "text": [
      "Epoch 52, NDCG@10: 0.16055968482353422\n"
     ]
    },
    {
     "name": "stderr",
     "output_type": "stream",
     "text": [
      " 54%|████████████████████████████████████████████▎                                     | 54/100 [16:39<14:11, 18.50s/it]"
     ]
    },
    {
     "name": "stdout",
     "output_type": "stream",
     "text": [
      "Epoch 53, NDCG@10: 0.15951945417796082\n"
     ]
    },
    {
     "name": "stderr",
     "output_type": "stream",
     "text": [
      " 55%|█████████████████████████████████████████████                                     | 55/100 [16:57<13:50, 18.46s/it]"
     ]
    },
    {
     "name": "stdout",
     "output_type": "stream",
     "text": [
      "Epoch 54, NDCG@10: 0.16005605679289944\n"
     ]
    },
    {
     "name": "stderr",
     "output_type": "stream",
     "text": [
      " 56%|█████████████████████████████████████████████▉                                    | 56/100 [17:15<13:31, 18.43s/it]"
     ]
    },
    {
     "name": "stdout",
     "output_type": "stream",
     "text": [
      "Epoch 55, NDCG@10: 0.16354781186049158\n"
     ]
    },
    {
     "name": "stderr",
     "output_type": "stream",
     "text": [
      " 57%|██████████████████████████████████████████████▋                                   | 57/100 [17:34<13:13, 18.46s/it]"
     ]
    },
    {
     "name": "stdout",
     "output_type": "stream",
     "text": [
      "Epoch 56, NDCG@10: 0.15995447047528236\n"
     ]
    },
    {
     "name": "stderr",
     "output_type": "stream",
     "text": [
      " 58%|███████████████████████████████████████████████▌                                  | 58/100 [17:52<12:54, 18.44s/it]"
     ]
    },
    {
     "name": "stdout",
     "output_type": "stream",
     "text": [
      "Epoch 57, NDCG@10: 0.16131786200896356\n"
     ]
    },
    {
     "name": "stderr",
     "output_type": "stream",
     "text": [
      " 59%|████████████████████████████████████████████████▍                                 | 59/100 [18:11<12:40, 18.55s/it]"
     ]
    },
    {
     "name": "stdout",
     "output_type": "stream",
     "text": [
      "Epoch 58, NDCG@10: 0.1604877619116456\n"
     ]
    },
    {
     "name": "stderr",
     "output_type": "stream",
     "text": [
      " 60%|█████████████████████████████████████████████████▏                                | 60/100 [18:30<12:20, 18.51s/it]"
     ]
    },
    {
     "name": "stdout",
     "output_type": "stream",
     "text": [
      "Epoch 59, NDCG@10: 0.16165992644595992\n"
     ]
    },
    {
     "name": "stderr",
     "output_type": "stream",
     "text": [
      " 61%|██████████████████████████████████████████████████                                | 61/100 [18:48<12:05, 18.59s/it]"
     ]
    },
    {
     "name": "stdout",
     "output_type": "stream",
     "text": [
      "Epoch 60, NDCG@10: 0.1623682071160085\n"
     ]
    },
    {
     "name": "stderr",
     "output_type": "stream",
     "text": [
      " 62%|██████████████████████████████████████████████████▊                               | 62/100 [19:07<11:43, 18.51s/it]"
     ]
    },
    {
     "name": "stdout",
     "output_type": "stream",
     "text": [
      "Epoch 61, NDCG@10: 0.1621123535857456\n"
     ]
    },
    {
     "name": "stderr",
     "output_type": "stream",
     "text": [
      " 63%|███████████████████████████████████████████████████▋                              | 63/100 [19:25<11:22, 18.44s/it]"
     ]
    },
    {
     "name": "stdout",
     "output_type": "stream",
     "text": [
      "Epoch 62, NDCG@10: 0.1609481905209318\n"
     ]
    },
    {
     "name": "stderr",
     "output_type": "stream",
     "text": [
      " 64%|████████████████████████████████████████████████████▍                             | 64/100 [19:43<10:59, 18.33s/it]"
     ]
    },
    {
     "name": "stdout",
     "output_type": "stream",
     "text": [
      "Epoch 63, NDCG@10: 0.16167435300654845\n"
     ]
    },
    {
     "name": "stderr",
     "output_type": "stream",
     "text": [
      " 65%|█████████████████████████████████████████████████████▎                            | 65/100 [20:01<10:40, 18.31s/it]"
     ]
    },
    {
     "name": "stdout",
     "output_type": "stream",
     "text": [
      "Epoch 64, NDCG@10: 0.16145650250751697\n"
     ]
    },
    {
     "name": "stderr",
     "output_type": "stream",
     "text": [
      " 66%|██████████████████████████████████████████████████████                            | 66/100 [20:20<10:24, 18.36s/it]"
     ]
    },
    {
     "name": "stdout",
     "output_type": "stream",
     "text": [
      "Epoch 65, NDCG@10: 0.1615092304747052\n"
     ]
    },
    {
     "name": "stderr",
     "output_type": "stream",
     "text": [
      " 67%|██████████████████████████████████████████████████████▉                           | 67/100 [20:38<10:06, 18.38s/it]"
     ]
    },
    {
     "name": "stdout",
     "output_type": "stream",
     "text": [
      "Epoch 66, NDCG@10: 0.1630397523829415\n"
     ]
    },
    {
     "name": "stderr",
     "output_type": "stream",
     "text": [
      " 67%|██████████████████████████████████████████████████████▉                           | 67/100 [20:57<10:19, 18.77s/it]"
     ]
    },
    {
     "name": "stdout",
     "output_type": "stream",
     "text": [
      "Epoch 67, NDCG@10: 0.16216106527260318\n",
      "\n",
      "Peak training memory, mb: 590.51\n",
      "Training epoches: 68\n",
      "Training time, m: 20.96\n"
     ]
    },
    {
     "name": "stderr",
     "output_type": "stream",
     "text": [
      "\n"
     ]
    }
   ],
   "source": [
    "model_e = build_sasrec_model(base_config1, training_temp, data_description_temp, testset_valid_temp, holdout_valid_temp, device, task=None, log=None)"
   ]
  },
  {
   "cell_type": "code",
   "execution_count": 19,
   "id": "6518ef62-aedf-417f-a3d9-b2fa06c90a6f",
   "metadata": {
    "scrolled": true
   },
   "outputs": [
    {
     "name": "stderr",
     "output_type": "stream",
     "text": [
      "  1%|▊                                                                                  | 1/100 [00:22<37:26, 22.69s/it]"
     ]
    },
    {
     "name": "stdout",
     "output_type": "stream",
     "text": [
      "Epoch 0, NDCG@10: 0.020005648187120625\n"
     ]
    },
    {
     "name": "stderr",
     "output_type": "stream",
     "text": [
      "  2%|█▋                                                                                 | 2/100 [00:43<35:16, 21.60s/it]"
     ]
    },
    {
     "name": "stdout",
     "output_type": "stream",
     "text": [
      "Epoch 1, NDCG@10: 0.02108089505976685\n"
     ]
    },
    {
     "name": "stderr",
     "output_type": "stream",
     "text": [
      "  3%|██▍                                                                                | 3/100 [01:04<34:33, 21.37s/it]"
     ]
    },
    {
     "name": "stdout",
     "output_type": "stream",
     "text": [
      "Epoch 2, NDCG@10: 0.03764415658880017\n"
     ]
    },
    {
     "name": "stderr",
     "output_type": "stream",
     "text": [
      "  4%|███▎                                                                               | 4/100 [01:25<34:10, 21.36s/it]"
     ]
    },
    {
     "name": "stdout",
     "output_type": "stream",
     "text": [
      "Epoch 3, NDCG@10: 0.061580850623725356\n"
     ]
    },
    {
     "name": "stderr",
     "output_type": "stream",
     "text": [
      "  5%|████▏                                                                              | 5/100 [01:47<33:49, 21.36s/it]"
     ]
    },
    {
     "name": "stdout",
     "output_type": "stream",
     "text": [
      "Epoch 4, NDCG@10: 0.08047401049883113\n"
     ]
    },
    {
     "name": "stderr",
     "output_type": "stream",
     "text": [
      "  6%|████▉                                                                              | 6/100 [02:08<33:11, 21.19s/it]"
     ]
    },
    {
     "name": "stdout",
     "output_type": "stream",
     "text": [
      "Epoch 5, NDCG@10: 0.09365416143183959\n"
     ]
    },
    {
     "name": "stderr",
     "output_type": "stream",
     "text": [
      "  7%|█████▊                                                                             | 7/100 [02:28<32:35, 21.03s/it]"
     ]
    },
    {
     "name": "stdout",
     "output_type": "stream",
     "text": [
      "Epoch 6, NDCG@10: 0.10060445617485406\n"
     ]
    },
    {
     "name": "stderr",
     "output_type": "stream",
     "text": [
      "  8%|██████▋                                                                            | 8/100 [02:49<32:10, 20.99s/it]"
     ]
    },
    {
     "name": "stdout",
     "output_type": "stream",
     "text": [
      "Epoch 7, NDCG@10: 0.10736948004462822\n"
     ]
    },
    {
     "name": "stderr",
     "output_type": "stream",
     "text": [
      "  9%|███████▍                                                                           | 9/100 [03:11<32:06, 21.17s/it]"
     ]
    },
    {
     "name": "stdout",
     "output_type": "stream",
     "text": [
      "Epoch 8, NDCG@10: 0.11332724817260371\n"
     ]
    },
    {
     "name": "stderr",
     "output_type": "stream",
     "text": [
      " 10%|████████▏                                                                         | 10/100 [03:32<31:40, 21.11s/it]"
     ]
    },
    {
     "name": "stdout",
     "output_type": "stream",
     "text": [
      "Epoch 9, NDCG@10: 0.11449859129336569\n"
     ]
    },
    {
     "name": "stderr",
     "output_type": "stream",
     "text": [
      " 11%|█████████                                                                         | 11/100 [03:53<31:08, 21.00s/it]"
     ]
    },
    {
     "name": "stdout",
     "output_type": "stream",
     "text": [
      "Epoch 10, NDCG@10: 0.11886933322827727\n"
     ]
    },
    {
     "name": "stderr",
     "output_type": "stream",
     "text": [
      " 12%|█████████▊                                                                        | 12/100 [04:14<30:51, 21.04s/it]"
     ]
    },
    {
     "name": "stdout",
     "output_type": "stream",
     "text": [
      "Epoch 11, NDCG@10: 0.12338272977351603\n"
     ]
    },
    {
     "name": "stderr",
     "output_type": "stream",
     "text": [
      " 13%|██████████▋                                                                       | 13/100 [04:35<30:29, 21.03s/it]"
     ]
    },
    {
     "name": "stdout",
     "output_type": "stream",
     "text": [
      "Epoch 12, NDCG@10: 0.12654002973956063\n"
     ]
    },
    {
     "name": "stderr",
     "output_type": "stream",
     "text": [
      " 14%|███████████▍                                                                      | 14/100 [04:55<30:02, 20.95s/it]"
     ]
    },
    {
     "name": "stdout",
     "output_type": "stream",
     "text": [
      "Epoch 13, NDCG@10: 0.12961132296290703\n"
     ]
    },
    {
     "name": "stderr",
     "output_type": "stream",
     "text": [
      " 15%|████████████▎                                                                     | 15/100 [05:17<29:43, 20.99s/it]"
     ]
    },
    {
     "name": "stdout",
     "output_type": "stream",
     "text": [
      "Epoch 14, NDCG@10: 0.1321119010551087\n"
     ]
    },
    {
     "name": "stderr",
     "output_type": "stream",
     "text": [
      " 16%|█████████████                                                                     | 16/100 [05:38<29:28, 21.05s/it]"
     ]
    },
    {
     "name": "stdout",
     "output_type": "stream",
     "text": [
      "Epoch 15, NDCG@10: 0.1365879858070935\n"
     ]
    },
    {
     "name": "stderr",
     "output_type": "stream",
     "text": [
      " 17%|█████████████▉                                                                    | 17/100 [05:58<28:58, 20.94s/it]"
     ]
    },
    {
     "name": "stdout",
     "output_type": "stream",
     "text": [
      "Epoch 16, NDCG@10: 0.13820571985708535\n"
     ]
    },
    {
     "name": "stderr",
     "output_type": "stream",
     "text": [
      " 18%|██████████████▊                                                                   | 18/100 [06:19<28:31, 20.87s/it]"
     ]
    },
    {
     "name": "stdout",
     "output_type": "stream",
     "text": [
      "Epoch 17, NDCG@10: 0.1403270593196572\n"
     ]
    },
    {
     "name": "stderr",
     "output_type": "stream",
     "text": [
      " 19%|███████████████▌                                                                  | 19/100 [06:40<28:05, 20.81s/it]"
     ]
    },
    {
     "name": "stdout",
     "output_type": "stream",
     "text": [
      "Epoch 18, NDCG@10: 0.1419857967750751\n"
     ]
    },
    {
     "name": "stderr",
     "output_type": "stream",
     "text": [
      " 20%|████████████████▍                                                                 | 20/100 [07:01<27:55, 20.94s/it]"
     ]
    },
    {
     "name": "stdout",
     "output_type": "stream",
     "text": [
      "Epoch 19, NDCG@10: 0.1429205202528379\n"
     ]
    },
    {
     "name": "stderr",
     "output_type": "stream",
     "text": [
      " 21%|█████████████████▏                                                                | 21/100 [07:22<27:33, 20.93s/it]"
     ]
    },
    {
     "name": "stdout",
     "output_type": "stream",
     "text": [
      "Epoch 20, NDCG@10: 0.14577233251571808\n"
     ]
    },
    {
     "name": "stderr",
     "output_type": "stream",
     "text": [
      " 22%|██████████████████                                                                | 22/100 [07:43<27:11, 20.91s/it]"
     ]
    },
    {
     "name": "stdout",
     "output_type": "stream",
     "text": [
      "Epoch 21, NDCG@10: 0.1478602845399611\n"
     ]
    },
    {
     "name": "stderr",
     "output_type": "stream",
     "text": [
      " 23%|██████████████████▊                                                               | 23/100 [08:04<26:48, 20.89s/it]"
     ]
    },
    {
     "name": "stdout",
     "output_type": "stream",
     "text": [
      "Epoch 22, NDCG@10: 0.147158639715641\n"
     ]
    },
    {
     "name": "stderr",
     "output_type": "stream",
     "text": [
      " 24%|███████████████████▋                                                              | 24/100 [08:25<26:27, 20.89s/it]"
     ]
    },
    {
     "name": "stdout",
     "output_type": "stream",
     "text": [
      "Epoch 23, NDCG@10: 0.1472430058663355\n"
     ]
    },
    {
     "name": "stderr",
     "output_type": "stream",
     "text": [
      " 25%|████████████████████▌                                                             | 25/100 [08:45<26:05, 20.87s/it]"
     ]
    },
    {
     "name": "stdout",
     "output_type": "stream",
     "text": [
      "Epoch 24, NDCG@10: 0.1499254874581166\n"
     ]
    },
    {
     "name": "stderr",
     "output_type": "stream",
     "text": [
      " 26%|█████████████████████▎                                                            | 26/100 [09:06<25:45, 20.88s/it]"
     ]
    },
    {
     "name": "stdout",
     "output_type": "stream",
     "text": [
      "Epoch 25, NDCG@10: 0.14969539335784077\n"
     ]
    },
    {
     "name": "stderr",
     "output_type": "stream",
     "text": [
      " 27%|██████████████████████▏                                                           | 27/100 [09:27<25:24, 20.89s/it]"
     ]
    },
    {
     "name": "stdout",
     "output_type": "stream",
     "text": [
      "Epoch 26, NDCG@10: 0.14714383719634624\n"
     ]
    },
    {
     "name": "stderr",
     "output_type": "stream",
     "text": [
      " 28%|██████████████████████▉                                                           | 28/100 [09:48<25:05, 20.91s/it]"
     ]
    },
    {
     "name": "stdout",
     "output_type": "stream",
     "text": [
      "Epoch 27, NDCG@10: 0.14857206606368503\n"
     ]
    },
    {
     "name": "stderr",
     "output_type": "stream",
     "text": [
      " 29%|███████████████████████▊                                                          | 29/100 [10:09<24:43, 20.89s/it]"
     ]
    },
    {
     "name": "stdout",
     "output_type": "stream",
     "text": [
      "Epoch 28, NDCG@10: 0.14851106005127468\n"
     ]
    },
    {
     "name": "stderr",
     "output_type": "stream",
     "text": [
      " 30%|████████████████████████▌                                                         | 30/100 [10:30<24:32, 21.03s/it]"
     ]
    },
    {
     "name": "stdout",
     "output_type": "stream",
     "text": [
      "Epoch 29, NDCG@10: 0.14870178780678822\n"
     ]
    },
    {
     "name": "stderr",
     "output_type": "stream",
     "text": [
      " 31%|█████████████████████████▍                                                        | 31/100 [10:51<24:12, 21.05s/it]"
     ]
    },
    {
     "name": "stdout",
     "output_type": "stream",
     "text": [
      "Epoch 30, NDCG@10: 0.14824463363103993\n"
     ]
    },
    {
     "name": "stderr",
     "output_type": "stream",
     "text": [
      " 32%|██████████████████████████▏                                                       | 32/100 [11:12<23:49, 21.02s/it]"
     ]
    },
    {
     "name": "stdout",
     "output_type": "stream",
     "text": [
      "Epoch 31, NDCG@10: 0.1505458997900727\n"
     ]
    },
    {
     "name": "stderr",
     "output_type": "stream",
     "text": [
      " 33%|███████████████████████████                                                       | 33/100 [11:33<23:25, 20.98s/it]"
     ]
    },
    {
     "name": "stdout",
     "output_type": "stream",
     "text": [
      "Epoch 32, NDCG@10: 0.15028414792043487\n"
     ]
    },
    {
     "name": "stderr",
     "output_type": "stream",
     "text": [
      " 34%|███████████████████████████▉                                                      | 34/100 [11:54<22:57, 20.86s/it]"
     ]
    },
    {
     "name": "stdout",
     "output_type": "stream",
     "text": [
      "Epoch 33, NDCG@10: 0.14965909789038814\n"
     ]
    },
    {
     "name": "stderr",
     "output_type": "stream",
     "text": [
      " 35%|████████████████████████████▋                                                     | 35/100 [12:15<22:46, 21.03s/it]"
     ]
    },
    {
     "name": "stdout",
     "output_type": "stream",
     "text": [
      "Epoch 34, NDCG@10: 0.14961931548297142\n"
     ]
    },
    {
     "name": "stderr",
     "output_type": "stream",
     "text": [
      " 36%|█████████████████████████████▌                                                    | 36/100 [12:36<22:21, 20.96s/it]"
     ]
    },
    {
     "name": "stdout",
     "output_type": "stream",
     "text": [
      "Epoch 35, NDCG@10: 0.1500767647558091\n"
     ]
    },
    {
     "name": "stderr",
     "output_type": "stream",
     "text": [
      " 37%|██████████████████████████████▎                                                   | 37/100 [12:57<21:57, 20.91s/it]"
     ]
    },
    {
     "name": "stdout",
     "output_type": "stream",
     "text": [
      "Epoch 36, NDCG@10: 0.15208555188253786\n"
     ]
    },
    {
     "name": "stderr",
     "output_type": "stream",
     "text": [
      " 38%|███████████████████████████████▏                                                  | 38/100 [13:18<21:38, 20.95s/it]"
     ]
    },
    {
     "name": "stdout",
     "output_type": "stream",
     "text": [
      "Epoch 37, NDCG@10: 0.15069764701049745\n"
     ]
    },
    {
     "name": "stderr",
     "output_type": "stream",
     "text": [
      " 39%|███████████████████████████████▉                                                  | 39/100 [13:39<21:13, 20.87s/it]"
     ]
    },
    {
     "name": "stdout",
     "output_type": "stream",
     "text": [
      "Epoch 38, NDCG@10: 0.152210343029548\n"
     ]
    },
    {
     "name": "stderr",
     "output_type": "stream",
     "text": [
      " 40%|████████████████████████████████▊                                                 | 40/100 [13:59<20:48, 20.81s/it]"
     ]
    },
    {
     "name": "stdout",
     "output_type": "stream",
     "text": [
      "Epoch 39, NDCG@10: 0.1527861613596081\n"
     ]
    },
    {
     "name": "stderr",
     "output_type": "stream",
     "text": [
      " 41%|█████████████████████████████████▌                                                | 41/100 [14:20<20:29, 20.83s/it]"
     ]
    },
    {
     "name": "stdout",
     "output_type": "stream",
     "text": [
      "Epoch 40, NDCG@10: 0.1515335286142276\n"
     ]
    },
    {
     "name": "stderr",
     "output_type": "stream",
     "text": [
      " 42%|██████████████████████████████████▍                                               | 42/100 [14:41<20:07, 20.81s/it]"
     ]
    },
    {
     "name": "stdout",
     "output_type": "stream",
     "text": [
      "Epoch 41, NDCG@10: 0.1533752469264598\n"
     ]
    },
    {
     "name": "stderr",
     "output_type": "stream",
     "text": [
      " 43%|███████████████████████████████████▎                                              | 43/100 [15:02<19:47, 20.84s/it]"
     ]
    },
    {
     "name": "stdout",
     "output_type": "stream",
     "text": [
      "Epoch 42, NDCG@10: 0.14997547774629025\n"
     ]
    },
    {
     "name": "stderr",
     "output_type": "stream",
     "text": [
      " 44%|████████████████████████████████████                                              | 44/100 [15:23<19:27, 20.84s/it]"
     ]
    },
    {
     "name": "stdout",
     "output_type": "stream",
     "text": [
      "Epoch 43, NDCG@10: 0.154764746437385\n"
     ]
    },
    {
     "name": "stderr",
     "output_type": "stream",
     "text": [
      " 45%|████████████████████████████████████▉                                             | 45/100 [15:44<19:16, 21.02s/it]"
     ]
    },
    {
     "name": "stdout",
     "output_type": "stream",
     "text": [
      "Epoch 44, NDCG@10: 0.15280765855251513\n"
     ]
    },
    {
     "name": "stderr",
     "output_type": "stream",
     "text": [
      " 46%|█████████████████████████████████████▋                                            | 46/100 [16:05<18:58, 21.08s/it]"
     ]
    },
    {
     "name": "stdout",
     "output_type": "stream",
     "text": [
      "Epoch 45, NDCG@10: 0.15419682159023237\n"
     ]
    },
    {
     "name": "stderr",
     "output_type": "stream",
     "text": [
      " 47%|██████████████████████████████████████▌                                           | 47/100 [16:26<18:35, 21.06s/it]"
     ]
    },
    {
     "name": "stdout",
     "output_type": "stream",
     "text": [
      "Epoch 46, NDCG@10: 0.15338174253866813\n"
     ]
    },
    {
     "name": "stderr",
     "output_type": "stream",
     "text": [
      " 48%|███████████████████████████████████████▎                                          | 48/100 [16:47<18:06, 20.89s/it]"
     ]
    },
    {
     "name": "stdout",
     "output_type": "stream",
     "text": [
      "Epoch 47, NDCG@10: 0.15481261213903483\n"
     ]
    },
    {
     "name": "stderr",
     "output_type": "stream",
     "text": [
      " 49%|████████████████████████████████████████▏                                         | 49/100 [17:08<17:49, 20.98s/it]"
     ]
    },
    {
     "name": "stdout",
     "output_type": "stream",
     "text": [
      "Epoch 48, NDCG@10: 0.1544219968090963\n"
     ]
    },
    {
     "name": "stderr",
     "output_type": "stream",
     "text": [
      " 50%|█████████████████████████████████████████                                         | 50/100 [17:29<17:28, 20.97s/it]"
     ]
    },
    {
     "name": "stdout",
     "output_type": "stream",
     "text": [
      "Epoch 49, NDCG@10: 0.1563492806967476\n"
     ]
    },
    {
     "name": "stderr",
     "output_type": "stream",
     "text": [
      " 51%|█████████████████████████████████████████▊                                        | 51/100 [17:50<17:07, 20.97s/it]"
     ]
    },
    {
     "name": "stdout",
     "output_type": "stream",
     "text": [
      "Epoch 50, NDCG@10: 0.15609191308946138\n"
     ]
    },
    {
     "name": "stderr",
     "output_type": "stream",
     "text": [
      " 52%|██████████████████████████████████████████▋                                       | 52/100 [18:11<16:43, 20.91s/it]"
     ]
    },
    {
     "name": "stdout",
     "output_type": "stream",
     "text": [
      "Epoch 51, NDCG@10: 0.1544387224262863\n"
     ]
    },
    {
     "name": "stderr",
     "output_type": "stream",
     "text": [
      " 53%|███████████████████████████████████████████▍                                      | 53/100 [18:32<16:24, 20.96s/it]"
     ]
    },
    {
     "name": "stdout",
     "output_type": "stream",
     "text": [
      "Epoch 52, NDCG@10: 0.15402962171771198\n"
     ]
    },
    {
     "name": "stderr",
     "output_type": "stream",
     "text": [
      " 54%|████████████████████████████████████████████▎                                     | 54/100 [18:53<16:02, 20.93s/it]"
     ]
    },
    {
     "name": "stdout",
     "output_type": "stream",
     "text": [
      "Epoch 53, NDCG@10: 0.15678889629629925\n"
     ]
    },
    {
     "name": "stderr",
     "output_type": "stream",
     "text": [
      " 55%|█████████████████████████████████████████████                                     | 55/100 [19:14<15:41, 20.93s/it]"
     ]
    },
    {
     "name": "stdout",
     "output_type": "stream",
     "text": [
      "Epoch 54, NDCG@10: 0.15803024827740972\n"
     ]
    },
    {
     "name": "stderr",
     "output_type": "stream",
     "text": [
      " 56%|█████████████████████████████████████████████▉                                    | 56/100 [19:35<15:22, 20.97s/it]"
     ]
    },
    {
     "name": "stdout",
     "output_type": "stream",
     "text": [
      "Epoch 55, NDCG@10: 0.15559099862004655\n"
     ]
    },
    {
     "name": "stderr",
     "output_type": "stream",
     "text": [
      " 57%|██████████████████████████████████████████████▋                                   | 57/100 [19:56<15:00, 20.94s/it]"
     ]
    },
    {
     "name": "stdout",
     "output_type": "stream",
     "text": [
      "Epoch 56, NDCG@10: 0.15568153926385164\n"
     ]
    },
    {
     "name": "stderr",
     "output_type": "stream",
     "text": [
      " 58%|███████████████████████████████████████████████▌                                  | 58/100 [20:16<14:39, 20.93s/it]"
     ]
    },
    {
     "name": "stdout",
     "output_type": "stream",
     "text": [
      "Epoch 57, NDCG@10: 0.15676263575711183\n"
     ]
    },
    {
     "name": "stderr",
     "output_type": "stream",
     "text": [
      " 59%|████████████████████████████████████████████████▍                                 | 59/100 [20:37<14:15, 20.87s/it]"
     ]
    },
    {
     "name": "stdout",
     "output_type": "stream",
     "text": [
      "Epoch 58, NDCG@10: 0.15475301752368723\n"
     ]
    },
    {
     "name": "stderr",
     "output_type": "stream",
     "text": [
      " 60%|█████████████████████████████████████████████████▏                                | 60/100 [20:58<13:51, 20.79s/it]"
     ]
    },
    {
     "name": "stdout",
     "output_type": "stream",
     "text": [
      "Epoch 59, NDCG@10: 0.15883641473032173\n"
     ]
    },
    {
     "name": "stderr",
     "output_type": "stream",
     "text": [
      " 61%|██████████████████████████████████████████████████                                | 61/100 [21:19<13:31, 20.80s/it]"
     ]
    },
    {
     "name": "stdout",
     "output_type": "stream",
     "text": [
      "Epoch 60, NDCG@10: 0.15779933276061173\n"
     ]
    },
    {
     "name": "stderr",
     "output_type": "stream",
     "text": [
      " 62%|██████████████████████████████████████████████████▊                               | 62/100 [21:40<13:13, 20.87s/it]"
     ]
    },
    {
     "name": "stdout",
     "output_type": "stream",
     "text": [
      "Epoch 61, NDCG@10: 0.15772447578997634\n"
     ]
    },
    {
     "name": "stderr",
     "output_type": "stream",
     "text": [
      " 63%|███████████████████████████████████████████████████▋                              | 63/100 [22:00<12:52, 20.87s/it]"
     ]
    },
    {
     "name": "stdout",
     "output_type": "stream",
     "text": [
      "Epoch 62, NDCG@10: 0.15773565644642598\n"
     ]
    },
    {
     "name": "stderr",
     "output_type": "stream",
     "text": [
      " 64%|████████████████████████████████████████████████████▍                             | 64/100 [22:21<12:31, 20.86s/it]"
     ]
    },
    {
     "name": "stdout",
     "output_type": "stream",
     "text": [
      "Epoch 63, NDCG@10: 0.15738690445445247\n"
     ]
    },
    {
     "name": "stderr",
     "output_type": "stream",
     "text": [
      " 65%|█████████████████████████████████████████████████████▎                            | 65/100 [22:43<12:14, 20.98s/it]"
     ]
    },
    {
     "name": "stdout",
     "output_type": "stream",
     "text": [
      "Epoch 64, NDCG@10: 0.15552985188948237\n"
     ]
    },
    {
     "name": "stderr",
     "output_type": "stream",
     "text": [
      " 66%|██████████████████████████████████████████████████████                            | 66/100 [23:03<11:49, 20.88s/it]"
     ]
    },
    {
     "name": "stdout",
     "output_type": "stream",
     "text": [
      "Epoch 65, NDCG@10: 0.15982451311970214\n"
     ]
    },
    {
     "name": "stderr",
     "output_type": "stream",
     "text": [
      " 67%|██████████████████████████████████████████████████████▉                           | 67/100 [23:24<11:29, 20.89s/it]"
     ]
    },
    {
     "name": "stdout",
     "output_type": "stream",
     "text": [
      "Epoch 66, NDCG@10: 0.1573811538106219\n"
     ]
    },
    {
     "name": "stderr",
     "output_type": "stream",
     "text": [
      " 68%|███████████████████████████████████████████████████████▊                          | 68/100 [23:45<11:10, 20.95s/it]"
     ]
    },
    {
     "name": "stdout",
     "output_type": "stream",
     "text": [
      "Epoch 67, NDCG@10: 0.1590579364078356\n"
     ]
    },
    {
     "name": "stderr",
     "output_type": "stream",
     "text": [
      " 69%|████████████████████████████████████████████████████████▌                         | 69/100 [24:07<10:59, 21.29s/it]"
     ]
    },
    {
     "name": "stdout",
     "output_type": "stream",
     "text": [
      "Epoch 68, NDCG@10: 0.1585310080289338\n"
     ]
    },
    {
     "name": "stderr",
     "output_type": "stream",
     "text": [
      " 70%|█████████████████████████████████████████████████████████▍                        | 70/100 [24:29<10:43, 21.44s/it]"
     ]
    },
    {
     "name": "stdout",
     "output_type": "stream",
     "text": [
      "Epoch 69, NDCG@10: 0.1585051735595171\n"
     ]
    },
    {
     "name": "stderr",
     "output_type": "stream",
     "text": [
      " 71%|██████████████████████████████████████████████████████████▏                       | 71/100 [24:51<10:25, 21.56s/it]"
     ]
    },
    {
     "name": "stdout",
     "output_type": "stream",
     "text": [
      "Epoch 70, NDCG@10: 0.16038802871639912\n"
     ]
    },
    {
     "name": "stderr",
     "output_type": "stream",
     "text": [
      " 72%|███████████████████████████████████████████████████████████                       | 72/100 [25:13<10:05, 21.63s/it]"
     ]
    },
    {
     "name": "stdout",
     "output_type": "stream",
     "text": [
      "Epoch 71, NDCG@10: 0.15910326462481225\n"
     ]
    },
    {
     "name": "stderr",
     "output_type": "stream",
     "text": [
      " 73%|███████████████████████████████████████████████████████████▊                      | 73/100 [25:34<09:44, 21.66s/it]"
     ]
    },
    {
     "name": "stdout",
     "output_type": "stream",
     "text": [
      "Epoch 72, NDCG@10: 0.15852264220913195\n"
     ]
    },
    {
     "name": "stderr",
     "output_type": "stream",
     "text": [
      " 74%|████████████████████████████████████████████████████████████▋                     | 74/100 [25:57<09:27, 21.82s/it]"
     ]
    },
    {
     "name": "stdout",
     "output_type": "stream",
     "text": [
      "Epoch 73, NDCG@10: 0.1591247286322372\n"
     ]
    },
    {
     "name": "stderr",
     "output_type": "stream",
     "text": [
      " 75%|█████████████████████████████████████████████████████████████▌                    | 75/100 [26:18<09:03, 21.73s/it]"
     ]
    },
    {
     "name": "stdout",
     "output_type": "stream",
     "text": [
      "Epoch 74, NDCG@10: 0.15872663032377932\n"
     ]
    },
    {
     "name": "stderr",
     "output_type": "stream",
     "text": [
      " 76%|██████████████████████████████████████████████████████████████▎                   | 76/100 [26:40<08:44, 21.84s/it]"
     ]
    },
    {
     "name": "stdout",
     "output_type": "stream",
     "text": [
      "Epoch 75, NDCG@10: 0.15985462545080262\n"
     ]
    },
    {
     "name": "stderr",
     "output_type": "stream",
     "text": [
      " 77%|███████████████████████████████████████████████████████████████▏                  | 77/100 [27:03<08:25, 21.97s/it]"
     ]
    },
    {
     "name": "stdout",
     "output_type": "stream",
     "text": [
      "Epoch 76, NDCG@10: 0.15956411388371755\n"
     ]
    },
    {
     "name": "stderr",
     "output_type": "stream",
     "text": [
      " 78%|███████████████████████████████████████████████████████████████▉                  | 78/100 [27:25<08:05, 22.06s/it]"
     ]
    },
    {
     "name": "stdout",
     "output_type": "stream",
     "text": [
      "Epoch 77, NDCG@10: 0.15840692688401242\n"
     ]
    },
    {
     "name": "stderr",
     "output_type": "stream",
     "text": [
      " 79%|████████████████████████████████████████████████████████████████▊                 | 79/100 [27:47<07:44, 22.11s/it]"
     ]
    },
    {
     "name": "stdout",
     "output_type": "stream",
     "text": [
      "Epoch 78, NDCG@10: 0.1591548830229335\n"
     ]
    },
    {
     "name": "stderr",
     "output_type": "stream",
     "text": [
      " 80%|█████████████████████████████████████████████████████████████████▌                | 80/100 [28:09<07:20, 22.04s/it]"
     ]
    },
    {
     "name": "stdout",
     "output_type": "stream",
     "text": [
      "Epoch 79, NDCG@10: 0.15811623938642463\n"
     ]
    },
    {
     "name": "stderr",
     "output_type": "stream",
     "text": [
      " 81%|██████████████████████████████████████████████████████████████████▍               | 81/100 [28:31<06:57, 21.98s/it]"
     ]
    },
    {
     "name": "stdout",
     "output_type": "stream",
     "text": [
      "Epoch 80, NDCG@10: 0.1603564134018594\n"
     ]
    },
    {
     "name": "stderr",
     "output_type": "stream",
     "text": [
      " 82%|███████████████████████████████████████████████████████████████████▏              | 82/100 [28:53<06:36, 22.04s/it]"
     ]
    },
    {
     "name": "stdout",
     "output_type": "stream",
     "text": [
      "Epoch 81, NDCG@10: 0.16047337672048387\n"
     ]
    },
    {
     "name": "stderr",
     "output_type": "stream",
     "text": [
      " 83%|████████████████████████████████████████████████████████████████████              | 83/100 [29:15<06:15, 22.06s/it]"
     ]
    },
    {
     "name": "stdout",
     "output_type": "stream",
     "text": [
      "Epoch 82, NDCG@10: 0.1599611892694863\n"
     ]
    },
    {
     "name": "stderr",
     "output_type": "stream",
     "text": [
      " 84%|████████████████████████████████████████████████████████████████████▉             | 84/100 [29:37<05:50, 21.92s/it]"
     ]
    },
    {
     "name": "stdout",
     "output_type": "stream",
     "text": [
      "Epoch 83, NDCG@10: 0.1580318786598522\n"
     ]
    },
    {
     "name": "stderr",
     "output_type": "stream",
     "text": [
      " 85%|█████████████████████████████████████████████████████████████████████▋            | 85/100 [29:58<05:28, 21.87s/it]"
     ]
    },
    {
     "name": "stdout",
     "output_type": "stream",
     "text": [
      "Epoch 84, NDCG@10: 0.16045452810873392\n"
     ]
    },
    {
     "name": "stderr",
     "output_type": "stream",
     "text": [
      " 86%|██████████████████████████████████████████████████████████████████████▌           | 86/100 [30:20<05:05, 21.85s/it]"
     ]
    },
    {
     "name": "stdout",
     "output_type": "stream",
     "text": [
      "Epoch 85, NDCG@10: 0.15810839702319285\n"
     ]
    },
    {
     "name": "stderr",
     "output_type": "stream",
     "text": [
      " 87%|███████████████████████████████████████████████████████████████████████▎          | 87/100 [30:42<04:43, 21.79s/it]"
     ]
    },
    {
     "name": "stdout",
     "output_type": "stream",
     "text": [
      "Epoch 86, NDCG@10: 0.16023008755752796\n"
     ]
    },
    {
     "name": "stderr",
     "output_type": "stream",
     "text": [
      " 88%|████████████████████████████████████████████████████████████████████████▏         | 88/100 [31:04<04:21, 21.83s/it]"
     ]
    },
    {
     "name": "stdout",
     "output_type": "stream",
     "text": [
      "Epoch 87, NDCG@10: 0.16022344623728957\n"
     ]
    },
    {
     "name": "stderr",
     "output_type": "stream",
     "text": [
      " 89%|████████████████████████████████████████████████████████████████████████▉         | 89/100 [31:26<04:00, 21.87s/it]"
     ]
    },
    {
     "name": "stdout",
     "output_type": "stream",
     "text": [
      "Epoch 88, NDCG@10: 0.15988122291552004\n"
     ]
    },
    {
     "name": "stderr",
     "output_type": "stream",
     "text": [
      " 90%|█████████████████████████████████████████████████████████████████████████▊        | 90/100 [31:47<03:38, 21.80s/it]"
     ]
    },
    {
     "name": "stdout",
     "output_type": "stream",
     "text": [
      "Epoch 89, NDCG@10: 0.16137811036708152\n"
     ]
    },
    {
     "name": "stderr",
     "output_type": "stream",
     "text": [
      " 91%|██████████████████████████████████████████████████████████████████████████▌       | 91/100 [32:09<03:15, 21.67s/it]"
     ]
    },
    {
     "name": "stdout",
     "output_type": "stream",
     "text": [
      "Epoch 90, NDCG@10: 0.15866347556959917\n"
     ]
    },
    {
     "name": "stderr",
     "output_type": "stream",
     "text": [
      " 92%|███████████████████████████████████████████████████████████████████████████▍      | 92/100 [32:31<02:54, 21.77s/it]"
     ]
    },
    {
     "name": "stdout",
     "output_type": "stream",
     "text": [
      "Epoch 91, NDCG@10: 0.1603840602291274\n"
     ]
    },
    {
     "name": "stderr",
     "output_type": "stream",
     "text": [
      " 93%|████████████████████████████████████████████████████████████████████████████▎     | 93/100 [32:53<02:32, 21.77s/it]"
     ]
    },
    {
     "name": "stdout",
     "output_type": "stream",
     "text": [
      "Epoch 92, NDCG@10: 0.15938868276776816\n"
     ]
    },
    {
     "name": "stderr",
     "output_type": "stream",
     "text": [
      " 94%|█████████████████████████████████████████████████████████████████████████████     | 94/100 [33:13<02:08, 21.41s/it]"
     ]
    },
    {
     "name": "stdout",
     "output_type": "stream",
     "text": [
      "Epoch 93, NDCG@10: 0.15967210186997366\n"
     ]
    },
    {
     "name": "stderr",
     "output_type": "stream",
     "text": [
      " 95%|█████████████████████████████████████████████████████████████████████████████▉    | 95/100 [33:34<01:45, 21.12s/it]"
     ]
    },
    {
     "name": "stdout",
     "output_type": "stream",
     "text": [
      "Epoch 94, NDCG@10: 0.1591514982522995\n"
     ]
    },
    {
     "name": "stderr",
     "output_type": "stream",
     "text": [
      " 96%|██████████████████████████████████████████████████████████████████████████████▋   | 96/100 [33:54<01:24, 21.01s/it]"
     ]
    },
    {
     "name": "stdout",
     "output_type": "stream",
     "text": [
      "Epoch 95, NDCG@10: 0.1608350592776184\n"
     ]
    },
    {
     "name": "stderr",
     "output_type": "stream",
     "text": [
      " 97%|███████████████████████████████████████████████████████████████████████████████▌  | 97/100 [34:15<01:03, 21.02s/it]"
     ]
    },
    {
     "name": "stdout",
     "output_type": "stream",
     "text": [
      "Epoch 96, NDCG@10: 0.1597862528490172\n"
     ]
    },
    {
     "name": "stderr",
     "output_type": "stream",
     "text": [
      " 98%|████████████████████████████████████████████████████████████████████████████████▎ | 98/100 [34:36<00:41, 20.97s/it]"
     ]
    },
    {
     "name": "stdout",
     "output_type": "stream",
     "text": [
      "Epoch 97, NDCG@10: 0.16087233314939192\n"
     ]
    },
    {
     "name": "stderr",
     "output_type": "stream",
     "text": [
      " 99%|█████████████████████████████████████████████████████████████████████████████████▏| 99/100 [34:57<00:20, 21.00s/it]"
     ]
    },
    {
     "name": "stdout",
     "output_type": "stream",
     "text": [
      "Epoch 98, NDCG@10: 0.15925981540697934\n"
     ]
    },
    {
     "name": "stderr",
     "output_type": "stream",
     "text": [
      "100%|█████████████████████████████████████████████████████████████████████████████████| 100/100 [35:18<00:00, 21.18s/it]"
     ]
    },
    {
     "name": "stdout",
     "output_type": "stream",
     "text": [
      "Epoch 99, NDCG@10: 0.15936497442816644\n",
      "\n",
      "Peak training memory, mb: 1313.37\n",
      "Training epoches: 100\n",
      "Training time, m: 35.31\n"
     ]
    },
    {
     "name": "stderr",
     "output_type": "stream",
     "text": [
      "\n"
     ]
    }
   ],
   "source": [
    "model_D_sasrec = build_sasrec_model(base_config2, training_full, data_description_full, testset_valid_full, holdout_valid_full, device, task=None, log=None)"
   ]
  },
  {
   "cell_type": "code",
   "execution_count": null,
   "id": "97d7eb4e-b6eb-4e71-9412-9b2db4a46b80",
   "metadata": {},
   "outputs": [],
   "source": []
  },
  {
   "cell_type": "markdown",
   "id": "bea15dee-cd61-447d-8399-39bb068fb801",
   "metadata": {},
   "source": [
    "## RIS"
   ]
  },
  {
   "cell_type": "code",
   "execution_count": 156,
   "id": "9b239be5-5462-4806-b475-cbfe6c9f96e3",
   "metadata": {},
   "outputs": [],
   "source": [
    "def build_model_D(training_D, model_D_sasrec, n, data_description):\n",
    "    model_D_sasrec.eval()\n",
    "    seqs_padded = []\n",
    "    actions = []\n",
    "    \n",
    "    full_sequences = data_to_sequences(training_D, data_description)\n",
    "    for _, h in tqdm(full_sequences.items()):\n",
    "\n",
    "        seqt = h.copy()\n",
    "        for i in range(len(h)-1):\n",
    "            actions.append(seqt.pop())\n",
    "            seqs_padded.append(seqt[-n:])\n",
    "            \n",
    "        # subseqs_h = []\n",
    "        # seqt = h.copy()\n",
    "        # for i in range(1):\n",
    "        #     at = seqt.pop()\n",
    "        #     subseqs_h.append((at, seqt[-n:]))\n",
    "            \n",
    "    seqs_padded = [np.pad(arr, (n - len(arr), 0), mode='constant', constant_values=model_D_sasrec.pad_token) for arr in seqs_padded]\n",
    "    seqs_padded = torch.tensor(seqs_padded, device=device)[:, -model_D_sasrec.pos_emb.num_embeddings:]\n",
    "    with torch.no_grad():\n",
    "        states = model_D_sasrec.log2feats(seqs_padded)[:, -1].cpu().detach().numpy()\n",
    "         \n",
    "    # должно фититься на всех айтемах (все экшены должны быть в таргете хоть раз)\n",
    "    model_D = LogisticRegression(multi_class='multinomial', max_iter=100, verbose=1).fit(states, actions) \n",
    "    \n",
    "    return actions"
   ]
  },
  {
   "cell_type": "code",
   "execution_count": null,
   "id": "e70c03fb-c4a4-499e-96dc-00a0f44cea49",
   "metadata": {},
   "outputs": [
    {
     "name": "stderr",
     "output_type": "stream",
     "text": [
      "6040it [00:01, 4630.32it/s]\n",
      "/tmp/ipykernel_5047/1415606367.py:21: UserWarning: Creating a tensor from a list of numpy.ndarrays is extremely slow. Please consider converting the list to a single numpy.ndarray with numpy.array() before converting to a tensor. (Triggered internally at /opt/pytorch/pytorch/torch/csrc/utils/tensor_new.cpp:261.)\n",
      "  seqs_padded = torch.tensor(seqs_padded, device=device)[:, -model_D_sasrec.pos_emb.num_embeddings:]\n",
      " This problem is unconstrained.\n"
     ]
    },
    {
     "name": "stdout",
     "output_type": "stream",
     "text": [
      "RUNNING THE L-BFGS-B CODE\n",
      "\n",
      "           * * *\n",
      "\n",
      "Machine precision = 2.220D-16\n",
      " N =       237510     M =           10\n",
      "\n",
      "At X0         0 variables are exactly at the bounds\n",
      "\n",
      "At iterate    0    f=  8.10521D+06    |proj g|=  1.67536D+04\n"
     ]
    }
   ],
   "source": [
    "# model_D = build_model_D(training_full[training_full.userid<40], model_D_sasrec, 3, data_description_full)\n",
    "# model_D\n",
    "\n",
    "model_D = build_model_D(training_full, model_D_sasrec, 3, data_description_full)\n",
    "model_D"
   ]
  },
  {
   "cell_type": "code",
   "execution_count": 237,
   "id": "57baa6f4-ee40-4b47-b31d-4ad3f50b6226",
   "metadata": {},
   "outputs": [],
   "source": [
    "# версия с ревордом на основе рейтингов и с векторизацией скоринга моделей\n",
    "def score_policy_e(at, seqt, model, device):\n",
    "    \n",
    "    with torch.no_grad():\n",
    "\n",
    "        final_feat = model.log2feats(seqt)[:, -1, :]\n",
    "        item_embs = model.item_emb.weight\n",
    "        predictions = item_embs.matmul(final_feat.unsqueeze(-1)).squeeze(-1).detach().cpu()\n",
    "        \n",
    "        # predictions = model.score(torch.tensor(seqt, device=device, dtype=torch.long)).detach().cpu()[0]\n",
    "    \n",
    "    probas = torch.softmax(predictions, 1)\n",
    "    \n",
    "    return probas[torch.arange(probas.size(0)), at]\n",
    "\n",
    "\n",
    "def score_policy_D(at, seqt, n, model_D, model_D_sasrec, device):\n",
    "    with torch.no_grad():\n",
    "        state = model_D_sasrec.log2feats(seqt)[:, -1].cpu().detach().numpy()\n",
    "\n",
    "    # try:\n",
    "    #     proba_gt = model_D.predict_proba(state.detach().cpu().numpy().reshape(1, -1))[0, np.where(model_D.classes_ == at)[0][0]]\n",
    "    # except IndexError:\n",
    "    #     at = 0\n",
    "    #     proba_gt = model_D.predict_proba(state.detach().cpu().numpy().reshape(1, -1))[0, at]\n",
    "\n",
    "    proba = model_D.predict_proba(state)\n",
    "    proba_gt = proba[np.arange(proba.shape[0]), np.array([np.where(model_D.classes_ == a)[0][0] for a in at])]\n",
    "\n",
    "    return proba_gt"
   ]
  },
  {
   "cell_type": "code",
   "execution_count": 212,
   "id": "c4392699-2680-48b4-a056-f226f74fec7b",
   "metadata": {},
   "outputs": [],
   "source": [
    "# версия с ревордом на основе рейтингов и с векторизацией скоринга моделей\n",
    "def prod_score_subseqs(h, model_D, model_D_sasrec, model_e, n, device):\n",
    "\n",
    "    # create subseqs with gts\n",
    "    seqs_padded_e = []\n",
    "    seqs_padded_D = []\n",
    "    actions = []\n",
    "    \n",
    "    seqt = h.copy()\n",
    "    for i in range(len(h)-1):\n",
    "        # at = seqt.pop()\n",
    "        # subseqs_h.append((at, seqt.copy()))\n",
    "        actions.append(seqt.pop())\n",
    "        seqs_padded_e.append(seqt.copy())\n",
    "        seqs_padded_D.append(seqt[-n:])\n",
    "    \n",
    "    maxlen = max([len(i) for i in seqs_padded_e])\n",
    "    seqs_padded_e = [np.pad(arr, (maxlen - len(arr), 0), mode='constant', constant_values=model_e.pad_token) for arr in seqs_padded_e]\n",
    "    seqs_padded_e = torch.tensor(seqs_padded_e, device=device)[:, -model_e.pos_emb.num_embeddings:] # model_D_sasrec.pos_emb.num_embeddings чей брать\n",
    "\n",
    "    seqs_padded_D = [np.pad(arr, (n - len(arr), 0), mode='constant', constant_values=model_D_sasrec.pad_token) for arr in seqs_padded_D]\n",
    "    seqs_padded_D = torch.tensor(seqs_padded_D, device=device)[:, -model_D_sasrec.pos_emb.num_embeddings:] # model_D_sasrec.pos_emb.num_embeddings чей брать\n",
    "    \n",
    "    probas_e = score_policy_e(actions, seqs_padded_e, model_e, device)\n",
    "    probas_D = score_policy_D(actions, seqs_padded_D, n, model_D, model_D_sasrec, device)\n",
    "    \n",
    "    product_one_h = np.divide(probas_e, probas_D).prod() # prod p_e/p_D\n",
    "\n",
    "    return product_one_h\n",
    "\n",
    "def RISEstimate(testset,  model_D, model_D_sasrec, model_e, data_description, n=3, gamma=0.98, device='cuda'):\n",
    "    \n",
    "    model_D_sasrec.eval() \n",
    "    model_e.eval()\n",
    "\n",
    "    test_sequences = data_to_ratequences(testset, data_description) ###\n",
    "    # m = len(test_sequences)\n",
    "    ris = []\n",
    "    \n",
    "    for _, (h, r) in tqdm(test_sequences.items()):\n",
    "    \n",
    "        product_one_h = prod_score_subseqs(h, model_D, model_D_sasrec, model_e, n, device)\n",
    "        g = np.sum([gamma**t * r[t] for t in range(len(h)-1)])\n",
    "\n",
    "        ris.append(g * product_one_h)\n",
    "    \n",
    "    return np.array(ris).mean(), np.array(ris)"
   ]
  },
  {
   "cell_type": "code",
   "execution_count": 239,
   "id": "fa671c8c-b22b-402a-8e52-3e80b5eba9a9",
   "metadata": {},
   "outputs": [
    {
     "name": "stderr",
     "output_type": "stream",
     "text": [
      "9it [00:01,  6.50it/s]\n"
     ]
    },
    {
     "data": {
      "text/plain": [
       "2.3860301603997196e+16"
      ]
     },
     "execution_count": 239,
     "metadata": {},
     "output_type": "execute_result"
    }
   ],
   "source": [
    "a, c = RISEstimate(testset[testset.userid < 10], model_D, model_D_sasrec, model_e, data_description_full)\n",
    "a"
   ]
  },
  {
   "cell_type": "code",
   "execution_count": 238,
   "id": "46262984-cb5b-435b-a2a7-280782fae6b0",
   "metadata": {},
   "outputs": [
    {
     "name": "stderr",
     "output_type": "stream",
     "text": [
      "9it [00:01,  7.36it/s]\n"
     ]
    },
    {
     "data": {
      "text/plain": [
       "1.0789694491121728e-12"
      ]
     },
     "execution_count": 238,
     "metadata": {},
     "output_type": "execute_result"
    }
   ],
   "source": [
    "a, c = RISEstimate(testset[testset.userid < 10], model_D, model_D_sasrec, model_e2, data_description_full)\n",
    "a"
   ]
  },
  {
   "cell_type": "code",
   "execution_count": 244,
   "id": "2bf56f02-87cb-4823-9f2e-81a187ed5c15",
   "metadata": {},
   "outputs": [
    {
     "name": "stderr",
     "output_type": "stream",
     "text": [
      "9it [00:01,  7.35it/s]\n"
     ]
    },
    {
     "data": {
      "text/plain": [
       "967993678.9527929"
      ]
     },
     "execution_count": 244,
     "metadata": {},
     "output_type": "execute_result"
    }
   ],
   "source": [
    "a, c = RISEstimate(testset[testset.userid < 10], model_D, model_D_sasrec, model_e3, data_description_full)\n",
    "a"
   ]
  },
  {
   "cell_type": "code",
   "execution_count": 248,
   "id": "51fc20a5-3759-45ab-b27d-27c88ce0deae",
   "metadata": {},
   "outputs": [
    {
     "name": "stderr",
     "output_type": "stream",
     "text": [
      "9it [00:01,  6.80it/s]\n"
     ]
    },
    {
     "data": {
      "text/plain": [
       "48209442238.588234"
      ]
     },
     "execution_count": 248,
     "metadata": {},
     "output_type": "execute_result"
    }
   ],
   "source": [
    "a, c = RISEstimate(testset[testset.userid < 10], model_D, model_D_sasrec, model_e4, data_description_full)\n",
    "a"
   ]
  },
  {
   "cell_type": "code",
   "execution_count": 251,
   "id": "7e6c22f2-f8a1-40ec-98ea-2bf35c8b6183",
   "metadata": {},
   "outputs": [
    {
     "name": "stderr",
     "output_type": "stream",
     "text": [
      "9it [00:01,  6.66it/s]\n"
     ]
    },
    {
     "data": {
      "text/plain": [
       "2.9726025816482687e+40"
      ]
     },
     "execution_count": 251,
     "metadata": {},
     "output_type": "execute_result"
    }
   ],
   "source": [
    "a, c = RISEstimate(testset[testset.userid < 10], model_D, model_D_sasrec, model_D_sasrec, data_description_full)\n",
    "a"
   ]
  },
  {
   "cell_type": "code",
   "execution_count": 255,
   "id": "2483d8fb-3440-47b3-8bae-346af8e414de",
   "metadata": {},
   "outputs": [
    {
     "name": "stderr",
     "output_type": "stream",
     "text": [
      "9it [00:01,  6.17it/s]\n"
     ]
    },
    {
     "data": {
      "text/plain": [
       "6.071471564240192e-17"
      ]
     },
     "execution_count": 255,
     "metadata": {},
     "output_type": "execute_result"
    }
   ],
   "source": [
    "a, c = RISEstimate(testset[testset.userid < 10], model_D, model_D_sasrec, model_e5, data_description_full)\n",
    "a"
   ]
  },
  {
   "cell_type": "code",
   "execution_count": null,
   "id": "1df325c1-a23a-4e14-804d-c01292f96dbc",
   "metadata": {},
   "outputs": [],
   "source": []
  },
  {
   "cell_type": "code",
   "execution_count": null,
   "id": "85ad240a-7116-4567-bb08-48418fc1e9a8",
   "metadata": {},
   "outputs": [],
   "source": []
  },
  {
   "cell_type": "code",
   "execution_count": 217,
   "id": "b28029e7-cef2-49d3-a053-3329a0a452b6",
   "metadata": {
    "scrolled": true
   },
   "outputs": [
    {
     "name": "stderr",
     "output_type": "stream",
     "text": [
      "1705it [04:27,  6.38it/s]\n"
     ]
    },
    {
     "name": "stdout",
     "output_type": "stream",
     "text": [
      "CPU times: user 32min 45s, sys: 35min 16s, total: 1h 8min 1s\n",
      "Wall time: 4min 27s\n"
     ]
    },
    {
     "data": {
      "text/plain": [
       "2.4015342441916635e+98"
      ]
     },
     "execution_count": 217,
     "metadata": {},
     "output_type": "execute_result"
    }
   ],
   "source": [
    "%%time\n",
    "a, c = RISEstimate(testset, model_D, model_D_sasrec, model_e, data_description_full)\n",
    "a"
   ]
  },
  {
   "cell_type": "code",
   "execution_count": 331,
   "id": "89e48efa-0805-4a41-8b06-704285213c91",
   "metadata": {},
   "outputs": [
    {
     "name": "stderr",
     "output_type": "stream",
     "text": [
      "1705it [04:41,  6.05it/s]"
     ]
    },
    {
     "name": "stdout",
     "output_type": "stream",
     "text": [
      "CPU times: user 20min, sys: 45min 6s, total: 1h 5min 7s\n",
      "Wall time: 4min 42s\n"
     ]
    },
    {
     "name": "stderr",
     "output_type": "stream",
     "text": [
      "\n"
     ]
    },
    {
     "data": {
      "text/plain": [
       "8.273065061855564e+43"
      ]
     },
     "execution_count": 331,
     "metadata": {},
     "output_type": "execute_result"
    }
   ],
   "source": [
    "%%time\n",
    "a, c = RISEstimate(testset, model_D, model_D_sasrec, model_e2, data_description_full)\n",
    "a"
   ]
  },
  {
   "cell_type": "code",
   "execution_count": 245,
   "id": "9a75cf87-8f32-49fe-b467-18206fe1e3ff",
   "metadata": {},
   "outputs": [
    {
     "name": "stderr",
     "output_type": "stream",
     "text": [
      "1705it [04:14,  6.70it/s]\n"
     ]
    },
    {
     "name": "stdout",
     "output_type": "stream",
     "text": [
      "CPU times: user 31min 48s, sys: 33min 23s, total: 1h 5min 11s\n",
      "Wall time: 4min 15s\n"
     ]
    },
    {
     "data": {
      "text/plain": [
       "1.129656536409366e+64"
      ]
     },
     "execution_count": 245,
     "metadata": {},
     "output_type": "execute_result"
    }
   ],
   "source": [
    "%%time\n",
    "a, c = RISEstimate(testset, model_D, model_D_sasrec, model_e3, data_description_full)\n",
    "a"
   ]
  },
  {
   "cell_type": "code",
   "execution_count": 249,
   "id": "9b58b72c-adbb-4749-992e-ad54f91e479b",
   "metadata": {},
   "outputs": [
    {
     "name": "stderr",
     "output_type": "stream",
     "text": [
      "1705it [04:06,  6.93it/s]\n"
     ]
    },
    {
     "name": "stdout",
     "output_type": "stream",
     "text": [
      "CPU times: user 30min 28s, sys: 32min 31s, total: 1h 2min 59s\n",
      "Wall time: 4min 6s\n"
     ]
    },
    {
     "data": {
      "text/plain": [
       "2.281626106036791e+89"
      ]
     },
     "execution_count": 249,
     "metadata": {},
     "output_type": "execute_result"
    }
   ],
   "source": [
    "%%time\n",
    "a, c = RISEstimate(testset, model_D, model_D_sasrec, model_e4, data_description_full)\n",
    "a"
   ]
  },
  {
   "cell_type": "code",
   "execution_count": 252,
   "id": "0c5e6a32-e8aa-4b36-a9e5-ffd2d4e25f48",
   "metadata": {},
   "outputs": [
    {
     "name": "stderr",
     "output_type": "stream",
     "text": [
      "1705it [04:22,  6.48it/s]\n"
     ]
    },
    {
     "name": "stdout",
     "output_type": "stream",
     "text": [
      "CPU times: user 32min 22s, sys: 34min 36s, total: 1h 6min 58s\n",
      "Wall time: 4min 23s\n"
     ]
    },
    {
     "data": {
      "text/plain": [
       "3.2217723980884096e+194"
      ]
     },
     "execution_count": 252,
     "metadata": {},
     "output_type": "execute_result"
    }
   ],
   "source": [
    "%%time\n",
    "a, c = RISEstimate(testset, model_D, model_D_sasrec, model_D_sasrec, data_description_full)\n",
    "a"
   ]
  },
  {
   "cell_type": "markdown",
   "id": "7b684d8c-b12d-4669-b94d-140cbac0eeb5",
   "metadata": {},
   "source": [
    "#### Should be D_sasrec > e > e4 > e3 > e2 > e5 "
   ]
  },
  {
   "cell_type": "code",
   "execution_count": 256,
   "id": "6e2232aa-4dfb-4124-8075-2152d03ff5c7",
   "metadata": {},
   "outputs": [
    {
     "name": "stderr",
     "output_type": "stream",
     "text": [
      "1705it [04:18,  6.59it/s]\n"
     ]
    },
    {
     "name": "stdout",
     "output_type": "stream",
     "text": [
      "CPU times: user 32min 11s, sys: 33min 45s, total: 1h 5min 57s\n",
      "Wall time: 4min 19s\n"
     ]
    },
    {
     "data": {
      "text/plain": [
       "2.183964848420044e+31"
      ]
     },
     "execution_count": 256,
     "metadata": {},
     "output_type": "execute_result"
    }
   ],
   "source": [
    "%%time\n",
    "a, c = RISEstimate(testset, model_D, model_D_sasrec, model_e5, data_description_full)\n",
    "a"
   ]
  },
  {
   "cell_type": "code",
   "execution_count": null,
   "id": "44c9cce6-fe18-4c61-80b8-c8b9c0f4fe87",
   "metadata": {},
   "outputs": [],
   "source": []
  },
  {
   "cell_type": "markdown",
   "id": "12ad7a6a-772a-4427-901d-bc69803ddd5b",
   "metadata": {},
   "source": [
    "### CIs"
   ]
  },
  {
   "cell_type": "code",
   "execution_count": 1016,
   "id": "01a7cf12-a4ef-4af1-98e4-14eaec5d4a5a",
   "metadata": {
    "scrolled": true
   },
   "outputs": [
    {
     "name": "stderr",
     "output_type": "stream",
     "text": [
      "1705it [02:50, 10.00it/s]"
     ]
    },
    {
     "name": "stdout",
     "output_type": "stream",
     "text": [
      "CPU times: user 41min 20s, sys: 43min 52s, total: 1h 25min 12s\n",
      "Wall time: 2min 51s\n"
     ]
    },
    {
     "name": "stderr",
     "output_type": "stream",
     "text": [
      "\n"
     ]
    },
    {
     "data": {
      "text/plain": [
       "2.4015342441916635e+98"
      ]
     },
     "execution_count": 1016,
     "metadata": {},
     "output_type": "execute_result"
    }
   ],
   "source": [
    "%%time\n",
    "a1, c1 = RISEstimate(testset, model_D, model_D_sasrec, model_e, data_description_full)\n",
    "a1"
   ]
  },
  {
   "cell_type": "code",
   "execution_count": null,
   "id": "0b11ef9a-f962-42e9-8675-cca796c6cb52",
   "metadata": {},
   "outputs": [],
   "source": [
    "%%time\n",
    "a2, c2 = RISEstimate(testset, model_D, model_D_sasrec, model_e2, data_description_full)\n",
    "a2"
   ]
  },
  {
   "cell_type": "code",
   "execution_count": 1071,
   "id": "e1b55df3-1124-4dfc-9423-b099105ff667",
   "metadata": {},
   "outputs": [
    {
     "name": "stderr",
     "output_type": "stream",
     "text": [
      "1705it [03:16,  8.66it/s]\n"
     ]
    },
    {
     "name": "stdout",
     "output_type": "stream",
     "text": [
      "CPU times: user 28min 43s, sys: 56min 15s, total: 1h 24min 58s\n",
      "Wall time: 3min 17s\n"
     ]
    },
    {
     "data": {
      "text/plain": [
       "1.129656536409366e+64"
      ]
     },
     "execution_count": 1071,
     "metadata": {},
     "output_type": "execute_result"
    }
   ],
   "source": [
    "%%time\n",
    "a3, c3 = RISEstimate(testset, model_D, model_D_sasrec, model_e3, data_description_full)\n",
    "a3"
   ]
  },
  {
   "cell_type": "code",
   "execution_count": 1187,
   "id": "baf8d798-7625-4dde-a890-aaeadb029152",
   "metadata": {},
   "outputs": [
    {
     "name": "stderr",
     "output_type": "stream",
     "text": [
      "1705it [03:04,  9.23it/s]\n"
     ]
    },
    {
     "name": "stdout",
     "output_type": "stream",
     "text": [
      "CPU times: user 28min 11s, sys: 51min 54s, total: 1h 20min 5s\n",
      "Wall time: 3min 6s\n"
     ]
    },
    {
     "data": {
      "text/plain": [
       "2.281626106036791e+89"
      ]
     },
     "execution_count": 1187,
     "metadata": {},
     "output_type": "execute_result"
    }
   ],
   "source": [
    "%%time\n",
    "a4, c4 = RISEstimate(testset, model_D, model_D_sasrec, model_e4, data_description_full)\n",
    "a4"
   ]
  },
  {
   "cell_type": "code",
   "execution_count": 1072,
   "id": "36fbe99d-df57-4d66-8467-77f9efa76240",
   "metadata": {},
   "outputs": [
    {
     "name": "stderr",
     "output_type": "stream",
     "text": [
      "1705it [03:14,  8.75it/s]\n"
     ]
    },
    {
     "name": "stdout",
     "output_type": "stream",
     "text": [
      "CPU times: user 27min 43s, sys: 53min 1s, total: 1h 20min 45s\n",
      "Wall time: 3min 15s\n"
     ]
    },
    {
     "data": {
      "text/plain": [
       "3.2217723980884096e+194"
      ]
     },
     "execution_count": 1072,
     "metadata": {},
     "output_type": "execute_result"
    }
   ],
   "source": [
    "%%time\n",
    "a5, c5 = RISEstimate(testset, model_D, model_D_sasrec, model_D_sasrec, data_description_full)\n",
    "a5"
   ]
  },
  {
   "cell_type": "code",
   "execution_count": 1073,
   "id": "edd4a1ab-e2d2-4578-b050-d72e51309b8a",
   "metadata": {},
   "outputs": [
    {
     "name": "stderr",
     "output_type": "stream",
     "text": [
      "1705it [03:12,  8.86it/s]\n"
     ]
    },
    {
     "name": "stdout",
     "output_type": "stream",
     "text": [
      "CPU times: user 26min 14s, sys: 53min 5s, total: 1h 19min 20s\n",
      "Wall time: 3min 13s\n"
     ]
    },
    {
     "data": {
      "text/plain": [
       "2.183964848420044e+31"
      ]
     },
     "execution_count": 1073,
     "metadata": {},
     "output_type": "execute_result"
    }
   ],
   "source": [
    "%%time\n",
    "a6, c6 = RISEstimate(testset, model_D, model_D_sasrec, model_e5, data_description_full)\n",
    "a6"
   ]
  },
  {
   "cell_type": "code",
   "execution_count": 1084,
   "id": "00dd55ea-0a22-433a-8916-25012c9ae4f0",
   "metadata": {},
   "outputs": [],
   "source": [
    "def estimate_confidence_interval_by_bootstrap(\n",
    "    samples: np.ndarray,\n",
    "    alpha: float = 0.05,\n",
    "    n_bootstrap_samples: int = 10000,\n",
    "    random_state: Optional[int] = None,\n",
    ") -> Dict[str, float]:\n",
    "\n",
    "    boot_samples = list()\n",
    "    random_ = check_random_state(random_state)\n",
    "    for _ in np.arange(n_bootstrap_samples):\n",
    "        boot_samples.append(np.mean(random_.choice(samples, size=samples.shape[0])))\n",
    "    lower_bound = np.percentile(boot_samples, 100 * (alpha / 2))\n",
    "    upper_bound = np.percentile(boot_samples, 100 * (1.0 - alpha / 2))\n",
    "    return {\n",
    "        \"mean\": np.mean(boot_samples),\n",
    "        f\"{100 * (1. - alpha)}% CI (lower)\": lower_bound,\n",
    "        f\"{100 * (1. - alpha)}% CI (upper)\": upper_bound,\n",
    "    }"
   ]
  },
  {
   "cell_type": "code",
   "execution_count": 1003,
   "id": "7f88c445-801b-4cfd-b74f-564358ace983",
   "metadata": {},
   "outputs": [
    {
     "data": {
      "text/plain": [
       "{'mean': 2.3892865538647724e+98,\n",
       " '95.0% CI (lower)': 7.421881117078248e+84,\n",
       " '95.0% CI (upper)': 7.204579962260093e+98}"
      ]
     },
     "execution_count": 1003,
     "metadata": {},
     "output_type": "execute_result"
    }
   ],
   "source": [
    "estimate_e = estimate_confidence_interval_by_bootstrap(c1, n_bootstrap_samples=10000, random_state=123)\n",
    "estimate_e"
   ]
  },
  {
   "cell_type": "code",
   "execution_count": null,
   "id": "457eae61-ec3f-4fab-a3fb-7843abd78be2",
   "metadata": {},
   "outputs": [],
   "source": []
  },
  {
   "cell_type": "code",
   "execution_count": 1297,
   "id": "183d505c-497e-4372-b89c-b7c133e0ff06",
   "metadata": {},
   "outputs": [],
   "source": [
    "random_state = 125\n",
    "random_ = check_random_state(random_state)\n",
    "sizes = [100, 200, 500, 750, 1000, 1250, 1500, 1700]\n",
    "# sizes = [4000, 8000, 16000, 32000, 64000, 128000]\n",
    "\n",
    "cis = []\n",
    "\n",
    "for i in sizes:\n",
    "    cis.append(estimate_confidence_interval_by_bootstrap(np.random.choice(c1, size=i, replace=False), n_bootstrap_samples=10000, random_state=random_state))"
   ]
  },
  {
   "cell_type": "code",
   "execution_count": 1208,
   "id": "6938e42d-e835-471e-b460-ece976b3035d",
   "metadata": {},
   "outputs": [],
   "source": [
    "cis3 = []\n",
    "for i in sizes:\n",
    "    cis3.append(estimate_confidence_interval_by_bootstrap(np.random.choice(c3, size=i, replace=False), n_bootstrap_samples=10000, random_state=random_state))"
   ]
  },
  {
   "cell_type": "code",
   "execution_count": 1230,
   "id": "38a46198-45c4-41d6-a6aa-3f05a0333d68",
   "metadata": {},
   "outputs": [],
   "source": [
    "cis4 = []\n",
    "for i in sizes:\n",
    "    cis4.append(estimate_confidence_interval_by_bootstrap(np.random.choice(c4, size=i, replace=False), n_bootstrap_samples=10000, random_state=random_state))"
   ]
  },
  {
   "cell_type": "code",
   "execution_count": 1191,
   "id": "c6fecffa-06b7-4372-835f-f5964bfae03d",
   "metadata": {},
   "outputs": [],
   "source": [
    "cis5 = []\n",
    "for i in sizes:\n",
    "    cis5.append(estimate_confidence_interval_by_bootstrap(np.random.choice(c5, size=i, replace=False), n_bootstrap_samples=10000, random_state=random_state))"
   ]
  },
  {
   "cell_type": "code",
   "execution_count": 1088,
   "id": "4ced7ea8-58fe-4444-84e7-4439d9764ab1",
   "metadata": {},
   "outputs": [],
   "source": [
    "cis6 = []\n",
    "for i in sizes:\n",
    "    cis6.append(estimate_confidence_interval_by_bootstrap(np.random.choice(c6, size=i, replace=False), n_bootstrap_samples=10000, random_state=random_state))"
   ]
  },
  {
   "cell_type": "code",
   "execution_count": 1354,
   "id": "68f93219-a54b-41f0-930f-f7f0dcbf5900",
   "metadata": {
    "scrolled": true
   },
   "outputs": [
    {
     "data": {
      "image/png": "[encoded data removed]",
      "text/plain": [
       "<Figure size 1300x600 with 1 Axes>"
      ]
     },
     "metadata": {},
     "output_type": "display_data"
    }
   ],
   "source": [
    "means1 = [item['mean'] for item in cis]\n",
    "means3 = [item['mean'] for item in cis4]\n",
    "means5 = [item['mean'] for item in cis5]\n",
    "means6 = [item['mean'] for item in cis6]\n",
    "ci_lowers1 = [item['95.0% CI (lower)'] for item in cis]\n",
    "ci_uppers1 = [item['95.0% CI (upper)'] for item in cis]\n",
    "ci_lowers3 = [item['95.0% CI (lower)'] for item in cis4]\n",
    "ci_uppers3 = [item['95.0% CI (upper)'] for item in cis4]\n",
    "ci_lowers5 = [item['95.0% CI (lower)'] for item in cis5]\n",
    "ci_uppers5 = [item['95.0% CI (upper)'] for item in cis5]\n",
    "ci_lowers6 = [item['95.0% CI (lower)'] for item in cis6]\n",
    "ci_uppers6 = [item['95.0% CI (upper)'] for item in cis6]\n",
    "\n",
    "plt.figure(figsize=(13, 6))\n",
    "\n",
    "x = np.array(sizes)\n",
    "\n",
    "plt.plot(x, means5, label='SASRec 1 (all data)', color='red')\n",
    "plt.fill_between(x, ci_lowers5, ci_uppers5, color='lightcoral', alpha=0.5)\n",
    "\n",
    "plt.plot(x, means1, label='SASRec 2', color='blue')\n",
    "plt.fill_between(x, ci_lowers1, ci_uppers1, color='lightblue', alpha=0.5)\n",
    "\n",
    "plt.plot(x, means3, label='SASRec 3', color='green')\n",
    "plt.fill_between(x, ci_lowers3, ci_uppers3, color='lightgreen', alpha=0.5)\n",
    "\n",
    "plt.plot(x, means6, label='SASRec 4', color='purple')\n",
    "plt.fill_between(x, ci_lowers6, ci_uppers6, color='plum', alpha=0.5)\n",
    "\n",
    "# plt.ylim(min(ci_lowers6) * 0.8, \n",
    "#          max(ci_uppers6) * 1.2)\n",
    "\n",
    "plt.xlabel('number of trajectories', fontsize=12)\n",
    "plt.ylabel('V_RIS', fontsize=12)\n",
    "plt.yscale('log')\n",
    "# plt.title('Means with 95% CI')\n",
    "plt.legend(fontsize=11)\n",
    "\n",
    "plt.show()"
   ]
  },
  {
   "cell_type": "code",
   "execution_count": null,
   "id": "d871ca7e-8237-4004-9db0-874a10704bee",
   "metadata": {},
   "outputs": [],
   "source": []
  },
  {
   "cell_type": "markdown",
   "id": "4c8d8956-2788-444e-a560-828f27e461dc",
   "metadata": {
    "editable": true,
    "slideshow": {
     "slide_type": ""
    },
    "tags": []
   },
   "source": [
    "### Split into trajectories with len <= 22, add history to pi_e"
   ]
  },
  {
   "cell_type": "code",
   "execution_count": 1358,
   "id": "a5fae99a-8533-4137-9f33-dabe5c24bfcc",
   "metadata": {},
   "outputs": [
    {
     "data": {
      "text/plain": [
       "0        ([2935, 1160, 1552, 941, 2117, 1633, 3136, 256...\n",
       "1        ([2935, 1160, 1552, 941, 2117, 1633, 3136, 256...\n",
       "2        ([2935, 1160, 1552, 941, 2117, 1633, 3136, 256...\n",
       "3        ([1090, 1102, 1109, 2479, 1183, 2702, 1117, 10...\n",
       "4        ([1090, 1102, 1109, 2479, 1183, 2702, 1117, 10...\n",
       "                               ...                        \n",
       "10010    ([3570, 3463, 3507, 1344, 2880, 3601, 27, 2466...\n",
       "10011    ([3570, 3463, 3507, 1344, 2880, 3601, 27, 2466...\n",
       "10012    ([3570, 3463, 3507, 1344, 2880, 3601, 27, 2466...\n",
       "10014    ([2932, 2348, 1104, 3092, 3148, 1148, 1160, 18...\n",
       "10015    ([2932, 2348, 1104, 3092, 3148, 1148, 1160, 18...\n",
       "Length: 9938, dtype: object"
      ]
     },
     "execution_count": 1358,
     "metadata": {},
     "output_type": "execute_result"
    }
   ],
   "source": [
    "data_to_ratequences_splitted(testset, data_description_full, trajectory_maxlen=22)"
   ]
  },
  {
   "cell_type": "code",
   "execution_count": 1400,
   "id": "5a7b603e-82bf-41aa-997d-29f7898f0032",
   "metadata": {},
   "outputs": [],
   "source": [
    "# версия с ревордом на основе рейтингов и с векторизацией скоринга моделей\n",
    "def prod_score_subseqs_splitwhistory(h, model_D, model_D_sasrec, model_e, n, device, trajectory_len):\n",
    "\n",
    "    # create subseqs with gts\n",
    "    seqs_padded_e = []\n",
    "    seqs_padded_D = []\n",
    "    actions = []\n",
    "    \n",
    "    seqt = h.copy()\n",
    "\n",
    "    num_iter = min(len(h)-1, trajectory_len) ### len(h)-1 or len(h) ??????\n",
    "    for i in range(num_iter):\n",
    "        # at = seqt.pop()\n",
    "        # subseqs_h.append((at, seqt.copy()))\n",
    "        actions.append(seqt.pop())\n",
    "        seqs_padded_e.append(seqt.copy())\n",
    "        seqs_padded_D.append(seqt[-n:]) if i <= (num_iter - n) else seqs_padded_D.append(seqt[-num_iter+i:])\n",
    "        \n",
    "    \n",
    "    maxlen = max([len(i) for i in seqs_padded_e])\n",
    "    seqs_padded_e = [np.pad(arr, (maxlen - len(arr), 0), mode='constant', constant_values=model_e.pad_token) for arr in seqs_padded_e]\n",
    "    seqs_padded_e = torch.tensor(seqs_padded_e, device=device)[:, -model_e.pos_emb.num_embeddings:] # model_D_sasrec.pos_emb.num_embeddings чей брать\n",
    "\n",
    "    seqs_padded_D = [np.pad(arr, (n - len(arr), 0), mode='constant', constant_values=model_D_sasrec.pad_token) for arr in seqs_padded_D]\n",
    "    seqs_padded_D = torch.tensor(seqs_padded_D, device=device)[:, -model_D_sasrec.pos_emb.num_embeddings:] # model_D_sasrec.pos_emb.num_embeddings чей брать\n",
    "    \n",
    "    probas_e = score_policy_e(actions, seqs_padded_e, model_e, device)\n",
    "    probas_D = score_policy_D(actions, seqs_padded_D, n, model_D, model_D_sasrec, device)\n",
    "    \n",
    "    product_one_h = np.divide(probas_e, probas_D).prod() # prod p_e/p_D\n",
    "\n",
    "    return product_one_h\n",
    "\n",
    "def RISEstimateSplitted(testset,  model_D, model_D_sasrec, model_e, data_description, n=3, gamma=0.98, device='cuda'):\n",
    "    \n",
    "    model_D_sasrec.eval() \n",
    "    model_e.eval()\n",
    "\n",
    "    test_sequences = data_to_ratequences_splitted(testset, data_description_full, trajectory_maxlen=22) ###\n",
    "    # m = len(test_sequences)\n",
    "    ris = []\n",
    "    \n",
    "    for _, (h, r) in tqdm(test_sequences.items()):\n",
    "    \n",
    "        product_one_h = prod_score_subseqs_splitwhistory(h, model_D, model_D_sasrec, model_e, n, device, trajectory_len=21)\n",
    "        g = np.sum([gamma**t * r[t] for t in range(len(h)-1)])\n",
    "\n",
    "        ris.append(g * product_one_h)\n",
    "    \n",
    "    return np.array(ris).mean(), np.array(ris)"
   ]
  },
  {
   "cell_type": "code",
   "execution_count": 1401,
   "id": "6def1e02-f21a-4b4b-bd8b-97e50fba50e1",
   "metadata": {},
   "outputs": [
    {
     "name": "stderr",
     "output_type": "stream",
     "text": [
      "40it [00:01, 20.10it/s]\n"
     ]
    },
    {
     "data": {
      "text/plain": [
       "1277460.187540661"
      ]
     },
     "execution_count": 1401,
     "metadata": {},
     "output_type": "execute_result"
    }
   ],
   "source": [
    "a, c = RISEstimateSplitted(testset[testset.userid < 10], model_D, model_D_sasrec, model_e, data_description_full)\n",
    "a"
   ]
  },
  {
   "cell_type": "code",
   "execution_count": 1402,
   "id": "4eb52f92-ce0c-422b-9fca-0222f9f6d50a",
   "metadata": {},
   "outputs": [
    {
     "name": "stderr",
     "output_type": "stream",
     "text": [
      "40it [00:01, 21.11it/s]\n"
     ]
    },
    {
     "data": {
      "text/plain": [
       "0.17673352546272694"
      ]
     },
     "execution_count": 1402,
     "metadata": {},
     "output_type": "execute_result"
    }
   ],
   "source": [
    "a, c = RISEstimateSplitted(testset[testset.userid < 10], model_D, model_D_sasrec, model_e2, data_description_full)\n",
    "a"
   ]
  },
  {
   "cell_type": "code",
   "execution_count": 1403,
   "id": "9128dd1e-5308-493f-ba9d-deb306816549",
   "metadata": {},
   "outputs": [
    {
     "name": "stderr",
     "output_type": "stream",
     "text": [
      "40it [00:01, 20.50it/s]\n"
     ]
    },
    {
     "data": {
      "text/plain": [
       "7831.598586344674"
      ]
     },
     "execution_count": 1403,
     "metadata": {},
     "output_type": "execute_result"
    }
   ],
   "source": [
    "a, c = RISEstimateSplitted(testset[testset.userid < 10], model_D, model_D_sasrec, model_e3, data_description_full)\n",
    "a"
   ]
  },
  {
   "cell_type": "code",
   "execution_count": 1404,
   "id": "a8ecd317-fda3-4593-8e75-74e4ac68067c",
   "metadata": {
    "editable": true,
    "slideshow": {
     "slide_type": ""
    },
    "tags": []
   },
   "outputs": [
    {
     "name": "stderr",
     "output_type": "stream",
     "text": [
      "40it [00:01, 20.75it/s]\n"
     ]
    },
    {
     "data": {
      "text/plain": [
       "35597.50160252511"
      ]
     },
     "execution_count": 1404,
     "metadata": {},
     "output_type": "execute_result"
    }
   ],
   "source": [
    "a, c = RISEstimateSplitted(testset[testset.userid < 10], model_D, model_D_sasrec, model_e4, data_description_full)\n",
    "a"
   ]
  },
  {
   "cell_type": "code",
   "execution_count": 1405,
   "id": "1a823a2f-d1cd-4500-bf30-26508aab2053",
   "metadata": {},
   "outputs": [
    {
     "name": "stderr",
     "output_type": "stream",
     "text": [
      "40it [00:02, 19.33it/s]\n"
     ]
    },
    {
     "data": {
      "text/plain": [
       "2916134722.5308104"
      ]
     },
     "execution_count": 1405,
     "metadata": {},
     "output_type": "execute_result"
    }
   ],
   "source": [
    "a, c = RISEstimateSplitted(testset[testset.userid < 10], model_D, model_D_sasrec, model_D_sasrec, data_description_full)\n",
    "a"
   ]
  },
  {
   "cell_type": "code",
   "execution_count": 1406,
   "id": "3adca0a3-920a-4111-99df-dd612b5385d9",
   "metadata": {},
   "outputs": [
    {
     "name": "stderr",
     "output_type": "stream",
     "text": [
      "40it [00:02, 19.36it/s]\n"
     ]
    },
    {
     "data": {
      "text/plain": [
       "0.0034941954245409504"
      ]
     },
     "execution_count": 1406,
     "metadata": {},
     "output_type": "execute_result"
    }
   ],
   "source": [
    "a, c = RISEstimateSplitted(testset[testset.userid < 10], model_D, model_D_sasrec, model_e5, data_description_full)\n",
    "a"
   ]
  },
  {
   "cell_type": "code",
   "execution_count": null,
   "id": "a01f867d-cb6d-43a5-9c2d-7f6c44476cfd",
   "metadata": {},
   "outputs": [],
   "source": []
  },
  {
   "cell_type": "code",
   "execution_count": 1413,
   "id": "5d8d9587-0452-4fab-b795-6c18685081b7",
   "metadata": {
    "scrolled": true
   },
   "outputs": [
    {
     "name": "stderr",
     "output_type": "stream",
     "text": [
      "9938it [07:50, 21.13it/s]\n"
     ]
    },
    {
     "name": "stdout",
     "output_type": "stream",
     "text": [
      "CPU times: user 2h 1min 26s, sys: 2h 9min 9s, total: 4h 10min 35s\n",
      "Wall time: 7min 51s\n"
     ]
    },
    {
     "data": {
      "text/plain": [
       "2927335356.837807"
      ]
     },
     "execution_count": 1413,
     "metadata": {},
     "output_type": "execute_result"
    }
   ],
   "source": [
    "%%time\n",
    "a, c11111 = RISEstimateSplitted(testset, model_D, model_D_sasrec, model_e, data_description_full)\n",
    "a"
   ]
  },
  {
   "cell_type": "code",
   "execution_count": null,
   "id": "3a59f61a-0bfb-4628-99d0-426098320805",
   "metadata": {},
   "outputs": [],
   "source": [
    "%%time\n",
    "a, c22222 = RISEstimateSplitted(testset, model_D, model_D_sasrec, model_e2, data_description_full)\n",
    "a"
   ]
  },
  {
   "cell_type": "code",
   "execution_count": 1409,
   "id": "298c978f-2970-4933-afd7-12826c199dfc",
   "metadata": {
    "editable": true,
    "slideshow": {
     "slide_type": ""
    },
    "tags": []
   },
   "outputs": [
    {
     "name": "stderr",
     "output_type": "stream",
     "text": [
      "46it [00:02, 21.17it/s]\n",
      "\n",
      "KeyboardInterrupt\n",
      "\n"
     ]
    }
   ],
   "source": [
    "%%time\n",
    "a, c33333 = RISEstimateSplitted(testset, model_D, model_D_sasrec, model_e3, data_description_full)\n",
    "a"
   ]
  },
  {
   "cell_type": "code",
   "execution_count": 1414,
   "id": "5198df46-f55c-47eb-8617-5f0ecdc5451f",
   "metadata": {},
   "outputs": [
    {
     "name": "stderr",
     "output_type": "stream",
     "text": [
      "9938it [07:29, 22.12it/s]\n"
     ]
    },
    {
     "name": "stdout",
     "output_type": "stream",
     "text": [
      "CPU times: user 1h 55min 34s, sys: 2h 3min 48s, total: 3h 59min 23s\n",
      "Wall time: 7min 30s\n"
     ]
    },
    {
     "data": {
      "text/plain": [
       "531825140.2849749"
      ]
     },
     "execution_count": 1414,
     "metadata": {},
     "output_type": "execute_result"
    }
   ],
   "source": [
    "%%time\n",
    "a, c44444 = RISEstimateSplitted(testset, model_D, model_D_sasrec, model_e4, data_description_full)\n",
    "a"
   ]
  },
  {
   "cell_type": "code",
   "execution_count": 1415,
   "id": "628c5b78-1834-4ae6-9045-df8de62a3d3b",
   "metadata": {},
   "outputs": [
    {
     "name": "stderr",
     "output_type": "stream",
     "text": [
      "9938it [07:45, 21.35it/s]\n"
     ]
    },
    {
     "name": "stdout",
     "output_type": "stream",
     "text": [
      "CPU times: user 2h 9s, sys: 2h 7min 47s, total: 4h 7min 56s\n",
      "Wall time: 7min 46s\n"
     ]
    },
    {
     "data": {
      "text/plain": [
       "3.562812191641325e+17"
      ]
     },
     "execution_count": 1415,
     "metadata": {},
     "output_type": "execute_result"
    }
   ],
   "source": [
    "%%time\n",
    "a, c55555 = RISEstimateSplitted(testset, model_D, model_D_sasrec, model_D_sasrec, data_description_full)\n",
    "a"
   ]
  },
  {
   "cell_type": "code",
   "execution_count": 1416,
   "id": "9d769689-9167-4fc6-bc73-009a468478e7",
   "metadata": {},
   "outputs": [
    {
     "name": "stderr",
     "output_type": "stream",
     "text": [
      "9938it [08:02, 20.61it/s]\n"
     ]
    },
    {
     "name": "stdout",
     "output_type": "stream",
     "text": [
      "CPU times: user 2h 4min 14s, sys: 2h 12min 41s, total: 4h 16min 56s\n",
      "Wall time: 8min 2s\n"
     ]
    },
    {
     "data": {
      "text/plain": [
       "542698720312.50586"
      ]
     },
     "execution_count": 1416,
     "metadata": {},
     "output_type": "execute_result"
    }
   ],
   "source": [
    "%%time\n",
    "a, c66666 = RISEstimateSplitted(testset, model_D, model_D_sasrec, model_e5, data_description_full)\n",
    "a"
   ]
  },
  {
   "cell_type": "code",
   "execution_count": null,
   "id": "7f608bec-22a6-4eec-9e44-d5f07871413a",
   "metadata": {},
   "outputs": [],
   "source": []
  },
  {
   "cell_type": "code",
   "execution_count": 1417,
   "id": "d4e26ee2-4c3c-4d40-a30e-dada41526661",
   "metadata": {},
   "outputs": [],
   "source": [
    "random_state = 125\n",
    "random_ = check_random_state(random_state)\n",
    "sizes = [1400, 2000,3000, 4000, 5000, 6000, 7000, 8000, 9920]\n",
    "# sizes = [4000, 8000, 16000, 32000, 64000, 128000]\n",
    "\n",
    "cis111 = []\n",
    "\n",
    "for i in sizes:\n",
    "    cis111.append(estimate_confidence_interval_by_bootstrap(np.random.choice(c11111, size=i, replace=False), n_bootstrap_samples=10000, random_state=random_state))"
   ]
  },
  {
   "cell_type": "code",
   "execution_count": 1418,
   "id": "ca08290f-1f82-4bc9-b53f-6dfcd1b59e01",
   "metadata": {},
   "outputs": [],
   "source": [
    "cis333 = []\n",
    "for i in sizes:\n",
    "    cis333.append(estimate_confidence_interval_by_bootstrap(np.random.choice(c44444, size=i, replace=False), n_bootstrap_samples=10000, random_state=random_state))"
   ]
  },
  {
   "cell_type": "code",
   "execution_count": 1419,
   "id": "41d2d3c8-f2cb-4547-ab48-decb4267e516",
   "metadata": {},
   "outputs": [],
   "source": [
    "cis555 = []\n",
    "for i in sizes:\n",
    "    cis555.append(estimate_confidence_interval_by_bootstrap(np.random.choice(c55555, size=i, replace=False), n_bootstrap_samples=10000, random_state=random_state))"
   ]
  },
  {
   "cell_type": "code",
   "execution_count": 1420,
   "id": "bb487531-e263-41b7-bf86-130f84432091",
   "metadata": {},
   "outputs": [],
   "source": [
    "cis666 = []\n",
    "for i in sizes:\n",
    "    cis666.append(estimate_confidence_interval_by_bootstrap(np.random.choice(c66666, size=i, replace=False), n_bootstrap_samples=10000, random_state=random_state))"
   ]
  },
  {
   "cell_type": "code",
   "execution_count": 1423,
   "id": "3f25910f-5159-44f2-903d-05167bf84959",
   "metadata": {},
   "outputs": [
    {
     "data": {
      "image/png": "[encoded data removed]",
      "text/plain": [
       "<Figure size 1300x600 with 1 Axes>"
      ]
     },
     "metadata": {},
     "output_type": "display_data"
    }
   ],
   "source": [
    "means111 = [item['mean'] for item in cis111]\n",
    "means333 = [item['mean'] for item in cis333]\n",
    "means555 = [item['mean'] for item in cis555]\n",
    "means666 = [item['mean'] for item in cis666]\n",
    "ci_lowers111 = [item['95.0% CI (lower)'] for item in cis111]\n",
    "ci_uppers111 = [item['95.0% CI (upper)'] for item in cis111]\n",
    "ci_lowers333 = [item['95.0% CI (lower)'] for item in cis333]\n",
    "ci_uppers333 = [item['95.0% CI (upper)'] for item in cis333]\n",
    "ci_lowers555 = [item['95.0% CI (lower)'] for item in cis555]\n",
    "ci_uppers555 = [item['95.0% CI (upper)'] for item in cis555]\n",
    "ci_lowers666 = [item['95.0% CI (lower)'] for item in cis666]\n",
    "ci_uppers666 = [item['95.0% CI (upper)'] for item in cis666]\n",
    "\n",
    "plt.figure(figsize=(13, 6))\n",
    "\n",
    "x = np.array(sizes)\n",
    "\n",
    "plt.plot(x, means555, 'o-', label='SASRec 1 (all data)', color='red')\n",
    "plt.fill_between(x, ci_lowers555, ci_uppers555, color='lightcoral', alpha=0.5)\n",
    "\n",
    "plt.plot(x, means111, 'o-', label='SASRec 2', color='blue')\n",
    "plt.fill_between(x, ci_lowers111, ci_uppers111, color='lightblue', alpha=0.5)\n",
    "\n",
    "plt.plot(x, means333, 'o-', label='SASRec 3', color='green')\n",
    "plt.fill_between(x, ci_lowers333, ci_uppers333, color='lightgreen', alpha=0.5)\n",
    "\n",
    "plt.plot(x, means666, 'o-', label='SASRec 4', color='purple')\n",
    "plt.fill_between(x, ci_lowers666, ci_uppers666, color='plum', alpha=0.5)\n",
    "\n",
    "plt.xlabel('number of trajectories', fontsize=12)\n",
    "plt.ylabel('V_RIS', fontsize=12)\n",
    "plt.yscale('log')\n",
    "# plt.title('Means with 95% CI')\n",
    "plt.legend(fontsize=11)\n",
    "\n",
    "plt.show()"
   ]
  }
 ],
 "metadata": {
  "kernelspec": {
   "display_name": "Python 3 (ipykernel)",
   "language": "python",
   "name": "python3"
  },
  "language_info": {
   "codemirror_mode": {
    "name": "ipython",
    "version": 3
   },
   "file_extension": ".py",
   "mimetype": "text/x-python",
   "name": "python",
   "nbconvert_exporter": "python",
   "pygments_lexer": "ipython3",
   "version": "3.11.10"
  }
 },
 "nbformat": 4,
 "nbformat_minor": 5
}
